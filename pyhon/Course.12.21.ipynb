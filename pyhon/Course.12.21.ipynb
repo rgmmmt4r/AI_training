{
 "cells": [
  {
   "cell_type": "code",
   "execution_count": 2,
   "id": "eac6ce71",
   "metadata": {},
   "outputs": [
    {
     "name": "stdout",
     "output_type": "stream",
     "text": [
      "A\n",
      "AB\n",
      "ABC\n",
      "ABCD\n",
      "ABCDE\n",
      "ABCDEF\n",
      "ABCDEFG\n",
      "ABCDEFGH\n",
      "ABCDEFGHI\n",
      "ABCDEFGHIJ\n",
      "ABCDEFGHIJK\n",
      "ABCDEFGHIJKL\n",
      "ABCDEFGHIJKLM\n",
      "ABCDEFGHIJKLMN\n",
      "ABCDEFGHIJKLMNO\n",
      "ABCDEFGHIJKLMNOP\n",
      "ABCDEFGHIJKLMNOPQ\n",
      "ABCDEFGHIJKLMNOPQR\n",
      "ABCDEFGHIJKLMNOPQRS\n",
      "ABCDEFGHIJKLMNOPQRST\n",
      "ABCDEFGHIJKLMNOPQRSTU\n",
      "ABCDEFGHIJKLMNOPQRSTUV\n",
      "ABCDEFGHIJKLMNOPQRSTUVW\n",
      "ABCDEFGHIJKLMNOPQRSTUVWX\n",
      "ABCDEFGHIJKLMNOPQRSTUVWXY\n",
      "ABCDEFGHIJKLMNOPQRSTUVWXYZ\n"
     ]
    }
   ],
   "source": [
    "S = \"\"\n",
    "def connect(S,i):\n",
    "    S = S + chr(i)\n",
    "    return S\n",
    "\n",
    "\n",
    "for i in range(65,91):\n",
    "    S = connect(S,i)\n",
    "    print(S)"
   ]
  },
  {
   "cell_type": "code",
   "execution_count": 15,
   "id": "71acaf77",
   "metadata": {},
   "outputs": [
    {
     "name": "stdout",
     "output_type": "stream",
     "text": [
      "9\n"
     ]
    }
   ],
   "source": [
    "def level(i):\n",
    "    temp = 1\n",
    "    for j in range(1,i+1):\n",
    "        temp *= j\n",
    "    return temp\n",
    "\n",
    "sum = 0\n",
    "for i in range(1,4):\n",
    "    sum  += level(i)\n",
    "print(sum)"
   ]
  },
  {
   "cell_type": "code",
   "execution_count": 14,
   "id": "25e8150a",
   "metadata": {},
   "outputs": [
    {
     "name": "stdout",
     "output_type": "stream",
     "text": [
      "9\n"
     ]
    }
   ],
   "source": [
    "def recur(i):\n",
    "    if i == 1:\n",
    "        return 1\n",
    "    else:\n",
    "        return recur(i-1) *i\n",
    "num = 0\n",
    "for i in range(1,4):\n",
    "    num += recur(i)\n",
    "\n",
    "print(num)"
   ]
  },
  {
   "cell_type": "code",
   "execution_count": 24,
   "id": "de5dcce4",
   "metadata": {},
   "outputs": [
    {
     "name": "stdout",
     "output_type": "stream",
     "text": [
      "110000\n",
      "{'John': [20, 160, 45000], 'Mary': [24, 165, 30000], 'Lucy': [25, 170, 35000]}\n"
     ]
    }
   ],
   "source": [
    "def ADD(Persons):\n",
    "    total_salary = 0\n",
    "    for person in Persons:\n",
    "        total_salary += person[3]\n",
    "    return total_salary\n",
    "def L2D(L):\n",
    "    Dict ={}\n",
    "    for person in L:\n",
    "        Dict[person[0]] = person[1:4]\n",
    "    return Dict\n",
    "\n",
    "Persons=[[\"John\",20,160,45000],[\"Mary\",24,165,30000],['Lucy',25,170,35000]]\n",
    "total_salary = ADD(Persons)\n",
    "Dict =  L2D(Persons)\n",
    "print(total_salary)\n",
    "print(Dict)"
   ]
  },
  {
   "cell_type": "code",
   "execution_count": null,
   "id": "7acb5487",
   "metadata": {},
   "outputs": [],
   "source": [
    "# 計算薪資總合，並傳回主程式\n",
    "def ADD(L):\n",
    "\n",
    "# 將 list 轉為字典，並傳回主程式\n",
    "{\"John\":[20,160,45000],\"Mary\":[24,165,30000]}\n",
    "def L2D(L):\n",
    "\n",
    "Persons=[[\"John\",20,160,45000],[\"Mary\",24,165,30000],['Lucy',25,170,35000]]\n",
    "S=ADD(Persons)\n",
    "E=L2D(L)"
   ]
  },
  {
   "cell_type": "code",
   "execution_count": 25,
   "id": "96e8c02f",
   "metadata": {},
   "outputs": [
    {
     "name": "stdout",
     "output_type": "stream",
     "text": [
      "Mr.John Smith\n",
      "Age is  30\n",
      "Mr.Mary Wang\n",
      "Age is  25\n"
     ]
    }
   ],
   "source": [
    "class Person:\n",
    "    def __init__(self,name,age):\n",
    "        self.Name = name\n",
    "        self.Age = age\n",
    "        print(\"Mr.\" + self.Name)\n",
    "        print(\"Age is \" , age)\n",
    "John = Person(\"John Smith\",30)\n",
    "Mary = Person(\"Mary Wang\",25)"
   ]
  },
  {
   "cell_type": "code",
   "execution_count": 27,
   "id": "d61e23ae",
   "metadata": {},
   "outputs": [
    {
     "name": "stdout",
     "output_type": "stream",
     "text": [
      "Total money is  200\n",
      "Total money is  150\n"
     ]
    }
   ],
   "source": [
    "class Banks:\n",
    "    def __init__(self,UName,Basic_money):\n",
    "        self.name = UName\n",
    "        self.money = Basic_money\n",
    "    def store(self,inMoney):\n",
    "        self.money += inMoney\n",
    "        print(\"Total money is \",self.money)\n",
    "    def take(self,outMoney):\n",
    "        self.money -= outMoney\n",
    "        print(\"Total money is \",self.money)\n",
    "John = Banks(\"Johm Smith\",100)\n",
    "John.store(100)\n",
    "John.take(50)"
   ]
  },
  {
   "cell_type": "code",
   "execution_count": 45,
   "id": "3694e3a4",
   "metadata": {},
   "outputs": [
    {
     "name": "stdout",
     "output_type": "stream",
     "text": [
      "['Hello Python\\n', '中文字測試\\n', 'Welcome\\n']\n"
     ]
    }
   ],
   "source": [
    "import os\n",
    "cur_path = os.getcwd()\n",
    "#print(cur_path)\n",
    "with open(\"file2.txt\",\"r\",encoding = \"UTF-8\") as f:\n",
    "    #content = f.read()\n",
    "    content = f.readlines()\n",
    "    print(content)"
   ]
  },
  {
   "cell_type": "code",
   "execution_count": 52,
   "id": "9c0faf44",
   "metadata": {},
   "outputs": [
    {
     "name": "stdout",
     "output_type": "stream",
     "text": [
      "[['姓名', '薪資', '性別'], ['張三', '30000', '1'], ['李四', '40000', '2'], ['王五', '35000', '1']]\n",
      "姓名\t薪資\t性別\t\n",
      "張三\t30000\t1\t\n",
      "李四\t40000\t2\t\n",
      "王五\t35000\t1\t\n"
     ]
    }
   ],
   "source": [
    "import os\n",
    "cur_path = os.getcwd()\n",
    "#print(cur_path)\n",
    "with open(\"Exe.txt\",\"r\",encoding = \"UTF-8\") as file:\n",
    "    #content = f.read()\n",
    "    content = file.readlines()    \n",
    "#print(content)\n",
    "Data = [data.strip() for data in content]\n",
    "#print(Data)\n",
    "Data = [data.split('\\t') for data in Data]\n",
    "print(Data)\n",
    "for person in Data:\n",
    "    for item in person:\n",
    "        print(item, end = \"\\t\")\n",
    "    print(\"\")"
   ]
  },
  {
   "cell_type": "code",
   "execution_count": 58,
   "id": "87602e67",
   "metadata": {},
   "outputs": [
    {
     "name": "stdout",
     "output_type": "stream",
     "text": [
      "(3,)\n",
      "(3, 2)\n"
     ]
    }
   ],
   "source": [
    "import numpy as np\n",
    "a = np.array([1,2,3])\n",
    "print(a.shape)\n",
    "b = np.array(\n",
    "    [[1,2],\n",
    "    [3,4],\n",
    "    [5,6]]\n",
    ")\n",
    "print(b.shape)"
   ]
  },
  {
   "cell_type": "code",
   "execution_count": 66,
   "id": "0e571540",
   "metadata": {},
   "outputs": [
    {
     "name": "stdout",
     "output_type": "stream",
     "text": [
      "[[0. 0.]\n",
      " [0. 0.]]\n",
      "[[1. 1. 1.]\n",
      " [1. 1. 1.]\n",
      " [1. 1. 1.]]\n",
      "[[1. 0. 0. 0.]\n",
      " [0. 1. 0. 0.]\n",
      " [0. 0. 1. 0.]\n",
      " [0. 0. 0. 1.]]\n",
      "[[0.99935385 0.34099873 0.63523718]\n",
      " [0.82326565 0.01980447 0.15336785]]\n"
     ]
    }
   ],
   "source": [
    "a = np.zeros((2,2))\n",
    "print(a)\n",
    "b = np.ones((3,3))\n",
    "print(b)\n",
    "c = np.eye((4))\n",
    "print(c)\n",
    "d = np.random.random((2,3))\n",
    "print(d)"
   ]
  },
  {
   "cell_type": "code",
   "execution_count": null,
   "id": "49f8fca5",
   "metadata": {},
   "outputs": [],
   "source": []
  }
 ],
 "metadata": {
  "kernelspec": {
   "display_name": "Python 3 (ipykernel)",
   "language": "python",
   "name": "python3"
  },
  "language_info": {
   "codemirror_mode": {
    "name": "ipython",
    "version": 3
   },
   "file_extension": ".py",
   "mimetype": "text/x-python",
   "name": "python",
   "nbconvert_exporter": "python",
   "pygments_lexer": "ipython3",
   "version": "3.7.11"
  }
 },
 "nbformat": 4,
 "nbformat_minor": 5
}
