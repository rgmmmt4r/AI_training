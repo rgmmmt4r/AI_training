{
 "cells": [
  {
   "cell_type": "code",
   "execution_count": 2,
   "id": "33e7faef",
   "metadata": {},
   "outputs": [
    {
     "name": "stdout",
     "output_type": "stream",
     "text": [
      "i: 1\n",
      "i: 2\n",
      "i: 3\n",
      "i: 4\n",
      "i: 5\n",
      "i: 6\n",
      "i: 7\n",
      "i: 8\n",
      "i: 9\n"
     ]
    }
   ],
   "source": [
    "i = 1\n",
    "while i <10:\n",
    "    print(\"i:\",i)\n",
    "    i += 1"
   ]
  },
  {
   "cell_type": "code",
   "execution_count": 3,
   "id": "2a7cda12",
   "metadata": {},
   "outputs": [
    {
     "name": "stdout",
     "output_type": "stream",
     "text": [
      "i: 1\n",
      "i: 2\n",
      "i: 3\n",
      "i: 4\n"
     ]
    }
   ],
   "source": [
    "i = 1\n",
    "while True:\n",
    "    print(\"i:\",i)\n",
    "    i += 1\n",
    "    if i == 5:\n",
    "        break"
   ]
  },
  {
   "cell_type": "code",
   "execution_count": 5,
   "id": "15f1845b",
   "metadata": {},
   "outputs": [
    {
     "name": "stdout",
     "output_type": "stream",
     "text": [
      "John 32000\n",
      "Mary 40000\n",
      "Lucy 43000\n"
     ]
    }
   ],
   "source": [
    "Names = [\"John\",\"Mary\",\"Lucy\"]\n",
    "Pays = [32000,40000,43000]\n",
    "for name,pay in zip(Names,Pays):\n",
    "    print(name,pay)"
   ]
  },
  {
   "cell_type": "code",
   "execution_count": 11,
   "id": "c56f882d",
   "metadata": {},
   "outputs": [
    {
     "name": "stdout",
     "output_type": "stream",
     "text": [
      "('John', 'Mary', 'Lucy', 'John')\n",
      "(32000, 40000, 43000, 32000)\n",
      "['John', 'Mary', 'Lucy', 'John']\n",
      "[32000, 40000, 43000, 32000]\n"
     ]
    }
   ],
   "source": [
    "Names = [\"John\",\"Mary\",\"Lucy\",\"John\"]\n",
    "Pays = [32000,40000,43000,32000]\n",
    "X = zip(Names,Pays)\n",
    "Y,Z = zip(*X)\n",
    "print(Y)\n",
    "print(Z)\n",
    "print(list(Y))\n",
    "print(list(Z))"
   ]
  },
  {
   "cell_type": "code",
   "execution_count": 7,
   "id": "46520746",
   "metadata": {},
   "outputs": [
    {
     "name": "stdout",
     "output_type": "stream",
     "text": [
      "[['John', 32000], ['Mary', 40000], ['Lucy', 43000]]\n"
     ]
    }
   ],
   "source": [
    "Names = [\"John\",\"Mary\",\"Lucy\"]\n",
    "Pays = [32000,40000,43000]\n",
    "X =[[x,y] for x,y in zip(Names,Pays)]\n",
    "print(X)"
   ]
  },
  {
   "cell_type": "code",
   "execution_count": 21,
   "id": "5cd02745",
   "metadata": {},
   "outputs": [
    {
     "name": "stdout",
     "output_type": "stream",
     "text": [
      "please input English:Good\n",
      "好\n",
      "please input English:end\n"
     ]
    }
   ],
   "source": [
    "Names = [\"Good\",\"Morning\",\"Yes\",\"I\"]\n",
    "Pays = [\"好\",\"早安\",\"是\",\"我\"]\n",
    "#Dict =[[eng,chi]]\n",
    "Dict = [[name,pay] for name, pay in zip(Names,Pays)]\n",
    "#print(Dict)\n",
    "query = input(\"please input English:\")\n",
    "while(query != \"end\" and query != \"END\"  and query != \"End\"):\n",
    "    for x in Dict:\n",
    "        if x[0] == query:\n",
    "            answer = x[1]\n",
    "            print(answer)\n",
    "    query = input(\"please input English:\")"
   ]
  },
  {
   "cell_type": "code",
   "execution_count": 25,
   "id": "395df5f6",
   "metadata": {},
   "outputs": [
    {
     "name": "stdout",
     "output_type": "stream",
     "text": [
      "please input English:Good\n",
      "好\n"
     ]
    },
    {
     "ename": "KeyboardInterrupt",
     "evalue": "Interrupted by user",
     "output_type": "error",
     "traceback": [
      "\u001b[1;31m---------------------------------------------------------------------------\u001b[0m",
      "\u001b[1;31mKeyboardInterrupt\u001b[0m                         Traceback (most recent call last)",
      "\u001b[1;32m~\\AppData\\Local\\Temp/ipykernel_16596/1092444378.py\u001b[0m in \u001b[0;36m<module>\u001b[1;34m\u001b[0m\n\u001b[0;32m      3\u001b[0m \u001b[1;33m\u001b[0m\u001b[0m\n\u001b[0;32m      4\u001b[0m \u001b[1;32mwhile\u001b[0m \u001b[1;32mTrue\u001b[0m\u001b[1;33m:\u001b[0m\u001b[1;33m\u001b[0m\u001b[1;33m\u001b[0m\u001b[0m\n\u001b[1;32m----> 5\u001b[1;33m     \u001b[0meng\u001b[0m\u001b[1;33m=\u001b[0m\u001b[0minput\u001b[0m\u001b[1;33m(\u001b[0m\u001b[1;34m\"please input English:\"\u001b[0m\u001b[1;33m)\u001b[0m\u001b[1;33m\u001b[0m\u001b[1;33m\u001b[0m\u001b[0m\n\u001b[0m\u001b[0;32m      6\u001b[0m     \u001b[1;32mif\u001b[0m \u001b[0meng\u001b[0m \u001b[1;33m==\u001b[0m \u001b[1;34m\"end\"\u001b[0m\u001b[1;33m:\u001b[0m\u001b[1;33m\u001b[0m\u001b[1;33m\u001b[0m\u001b[0m\n\u001b[0;32m      7\u001b[0m         \u001b[1;32mbreak\u001b[0m\u001b[1;33m\u001b[0m\u001b[1;33m\u001b[0m\u001b[0m\n",
      "\u001b[1;32m~\\anaconda3\\envs\\ai37\\lib\\site-packages\\ipykernel\\kernelbase.py\u001b[0m in \u001b[0;36mraw_input\u001b[1;34m(self, prompt)\u001b[0m\n\u001b[0;32m   1008\u001b[0m             \u001b[0mself\u001b[0m\u001b[1;33m.\u001b[0m\u001b[0m_parent_ident\u001b[0m\u001b[1;33m[\u001b[0m\u001b[1;34m\"shell\"\u001b[0m\u001b[1;33m]\u001b[0m\u001b[1;33m,\u001b[0m\u001b[1;33m\u001b[0m\u001b[1;33m\u001b[0m\u001b[0m\n\u001b[0;32m   1009\u001b[0m             \u001b[0mself\u001b[0m\u001b[1;33m.\u001b[0m\u001b[0mget_parent\u001b[0m\u001b[1;33m(\u001b[0m\u001b[1;34m\"shell\"\u001b[0m\u001b[1;33m)\u001b[0m\u001b[1;33m,\u001b[0m\u001b[1;33m\u001b[0m\u001b[1;33m\u001b[0m\u001b[0m\n\u001b[1;32m-> 1010\u001b[1;33m             \u001b[0mpassword\u001b[0m\u001b[1;33m=\u001b[0m\u001b[1;32mFalse\u001b[0m\u001b[1;33m,\u001b[0m\u001b[1;33m\u001b[0m\u001b[1;33m\u001b[0m\u001b[0m\n\u001b[0m\u001b[0;32m   1011\u001b[0m         )\n\u001b[0;32m   1012\u001b[0m \u001b[1;33m\u001b[0m\u001b[0m\n",
      "\u001b[1;32m~\\anaconda3\\envs\\ai37\\lib\\site-packages\\ipykernel\\kernelbase.py\u001b[0m in \u001b[0;36m_input_request\u001b[1;34m(self, prompt, ident, parent, password)\u001b[0m\n\u001b[0;32m   1049\u001b[0m             \u001b[1;32mexcept\u001b[0m \u001b[0mKeyboardInterrupt\u001b[0m\u001b[1;33m:\u001b[0m\u001b[1;33m\u001b[0m\u001b[1;33m\u001b[0m\u001b[0m\n\u001b[0;32m   1050\u001b[0m                 \u001b[1;31m# re-raise KeyboardInterrupt, to truncate traceback\u001b[0m\u001b[1;33m\u001b[0m\u001b[1;33m\u001b[0m\u001b[1;33m\u001b[0m\u001b[0m\n\u001b[1;32m-> 1051\u001b[1;33m                 \u001b[1;32mraise\u001b[0m \u001b[0mKeyboardInterrupt\u001b[0m\u001b[1;33m(\u001b[0m\u001b[1;34m\"Interrupted by user\"\u001b[0m\u001b[1;33m)\u001b[0m \u001b[1;32mfrom\u001b[0m \u001b[1;32mNone\u001b[0m\u001b[1;33m\u001b[0m\u001b[1;33m\u001b[0m\u001b[0m\n\u001b[0m\u001b[0;32m   1052\u001b[0m             \u001b[1;32mexcept\u001b[0m \u001b[0mException\u001b[0m\u001b[1;33m:\u001b[0m\u001b[1;33m\u001b[0m\u001b[1;33m\u001b[0m\u001b[0m\n\u001b[0;32m   1053\u001b[0m                 \u001b[0mself\u001b[0m\u001b[1;33m.\u001b[0m\u001b[0mlog\u001b[0m\u001b[1;33m.\u001b[0m\u001b[0mwarning\u001b[0m\u001b[1;33m(\u001b[0m\u001b[1;34m\"Invalid Message:\"\u001b[0m\u001b[1;33m,\u001b[0m \u001b[0mexc_info\u001b[0m\u001b[1;33m=\u001b[0m\u001b[1;32mTrue\u001b[0m\u001b[1;33m)\u001b[0m\u001b[1;33m\u001b[0m\u001b[1;33m\u001b[0m\u001b[0m\n",
      "\u001b[1;31mKeyboardInterrupt\u001b[0m: Interrupted by user"
     ]
    }
   ],
   "source": [
    "Names=[\"Good\",\"Morining\",\"Yes\",\"I\"]\n",
    "Pays=[\"好\",\"早晨\",\"是\",\"我\"]\n",
    "\n",
    "while True:\n",
    "    eng=input(\"please input English:\")\n",
    "    if eng == \"end\":\n",
    "        break\n",
    "    for i,n in enumerate(Names):\n",
    "        if (eng==n):\n",
    "            print(Pays[i])\n"
   ]
  },
  {
   "cell_type": "code",
   "execution_count": 27,
   "id": "3b666264",
   "metadata": {},
   "outputs": [
    {
     "name": "stdout",
     "output_type": "stream",
     "text": [
      "please input English:Good\n",
      "好\n"
     ]
    },
    {
     "ename": "KeyboardInterrupt",
     "evalue": "Interrupted by user",
     "output_type": "error",
     "traceback": [
      "\u001b[1;31m---------------------------------------------------------------------------\u001b[0m",
      "\u001b[1;31mKeyboardInterrupt\u001b[0m                         Traceback (most recent call last)",
      "\u001b[1;32m~\\AppData\\Local\\Temp/ipykernel_16596/2742337451.py\u001b[0m in \u001b[0;36m<module>\u001b[1;34m\u001b[0m\n\u001b[0;32m      3\u001b[0m \u001b[0mDict\u001b[0m\u001b[1;33m=\u001b[0m\u001b[1;33m[\u001b[0m\u001b[0mi\u001b[0m \u001b[1;32mfor\u001b[0m \u001b[0mi\u001b[0m \u001b[1;32min\u001b[0m \u001b[0mzip\u001b[0m\u001b[1;33m(\u001b[0m\u001b[0mNames\u001b[0m\u001b[1;33m,\u001b[0m\u001b[0mPays\u001b[0m\u001b[1;33m)\u001b[0m\u001b[1;33m]\u001b[0m\u001b[1;33m\u001b[0m\u001b[1;33m\u001b[0m\u001b[0m\n\u001b[0;32m      4\u001b[0m \u001b[1;32mwhile\u001b[0m \u001b[1;32mTrue\u001b[0m\u001b[1;33m:\u001b[0m\u001b[1;33m\u001b[0m\u001b[1;33m\u001b[0m\u001b[0m\n\u001b[1;32m----> 5\u001b[1;33m     \u001b[0mEng\u001b[0m\u001b[1;33m=\u001b[0m\u001b[0minput\u001b[0m\u001b[1;33m(\u001b[0m\u001b[1;34m\"please input English:\"\u001b[0m\u001b[1;33m)\u001b[0m\u001b[1;33m\u001b[0m\u001b[1;33m\u001b[0m\u001b[0m\n\u001b[0m\u001b[0;32m      6\u001b[0m     \u001b[1;32mif\u001b[0m \u001b[0mEng\u001b[0m \u001b[1;33m==\u001b[0m \u001b[1;34m'End'\u001b[0m\u001b[1;33m:\u001b[0m\u001b[1;33m\u001b[0m\u001b[1;33m\u001b[0m\u001b[0m\n\u001b[0;32m      7\u001b[0m         \u001b[1;32mbreak\u001b[0m\u001b[1;33m\u001b[0m\u001b[1;33m\u001b[0m\u001b[0m\n",
      "\u001b[1;32m~\\anaconda3\\envs\\ai37\\lib\\site-packages\\ipykernel\\kernelbase.py\u001b[0m in \u001b[0;36mraw_input\u001b[1;34m(self, prompt)\u001b[0m\n\u001b[0;32m   1008\u001b[0m             \u001b[0mself\u001b[0m\u001b[1;33m.\u001b[0m\u001b[0m_parent_ident\u001b[0m\u001b[1;33m[\u001b[0m\u001b[1;34m\"shell\"\u001b[0m\u001b[1;33m]\u001b[0m\u001b[1;33m,\u001b[0m\u001b[1;33m\u001b[0m\u001b[1;33m\u001b[0m\u001b[0m\n\u001b[0;32m   1009\u001b[0m             \u001b[0mself\u001b[0m\u001b[1;33m.\u001b[0m\u001b[0mget_parent\u001b[0m\u001b[1;33m(\u001b[0m\u001b[1;34m\"shell\"\u001b[0m\u001b[1;33m)\u001b[0m\u001b[1;33m,\u001b[0m\u001b[1;33m\u001b[0m\u001b[1;33m\u001b[0m\u001b[0m\n\u001b[1;32m-> 1010\u001b[1;33m             \u001b[0mpassword\u001b[0m\u001b[1;33m=\u001b[0m\u001b[1;32mFalse\u001b[0m\u001b[1;33m,\u001b[0m\u001b[1;33m\u001b[0m\u001b[1;33m\u001b[0m\u001b[0m\n\u001b[0m\u001b[0;32m   1011\u001b[0m         )\n\u001b[0;32m   1012\u001b[0m \u001b[1;33m\u001b[0m\u001b[0m\n",
      "\u001b[1;32m~\\anaconda3\\envs\\ai37\\lib\\site-packages\\ipykernel\\kernelbase.py\u001b[0m in \u001b[0;36m_input_request\u001b[1;34m(self, prompt, ident, parent, password)\u001b[0m\n\u001b[0;32m   1049\u001b[0m             \u001b[1;32mexcept\u001b[0m \u001b[0mKeyboardInterrupt\u001b[0m\u001b[1;33m:\u001b[0m\u001b[1;33m\u001b[0m\u001b[1;33m\u001b[0m\u001b[0m\n\u001b[0;32m   1050\u001b[0m                 \u001b[1;31m# re-raise KeyboardInterrupt, to truncate traceback\u001b[0m\u001b[1;33m\u001b[0m\u001b[1;33m\u001b[0m\u001b[1;33m\u001b[0m\u001b[0m\n\u001b[1;32m-> 1051\u001b[1;33m                 \u001b[1;32mraise\u001b[0m \u001b[0mKeyboardInterrupt\u001b[0m\u001b[1;33m(\u001b[0m\u001b[1;34m\"Interrupted by user\"\u001b[0m\u001b[1;33m)\u001b[0m \u001b[1;32mfrom\u001b[0m \u001b[1;32mNone\u001b[0m\u001b[1;33m\u001b[0m\u001b[1;33m\u001b[0m\u001b[0m\n\u001b[0m\u001b[0;32m   1052\u001b[0m             \u001b[1;32mexcept\u001b[0m \u001b[0mException\u001b[0m\u001b[1;33m:\u001b[0m\u001b[1;33m\u001b[0m\u001b[1;33m\u001b[0m\u001b[0m\n\u001b[0;32m   1053\u001b[0m                 \u001b[0mself\u001b[0m\u001b[1;33m.\u001b[0m\u001b[0mlog\u001b[0m\u001b[1;33m.\u001b[0m\u001b[0mwarning\u001b[0m\u001b[1;33m(\u001b[0m\u001b[1;34m\"Invalid Message:\"\u001b[0m\u001b[1;33m,\u001b[0m \u001b[0mexc_info\u001b[0m\u001b[1;33m=\u001b[0m\u001b[1;32mTrue\u001b[0m\u001b[1;33m)\u001b[0m\u001b[1;33m\u001b[0m\u001b[1;33m\u001b[0m\u001b[0m\n",
      "\u001b[1;31mKeyboardInterrupt\u001b[0m: Interrupted by user"
     ]
    }
   ],
   "source": [
    "Names=[\"Good\",\"Morining\",\"Yes\",\"I\"]\n",
    "Pays=[\"好\",\"早晨\",\"是\",\"我\"]\n",
    "Dict=[i for i in zip(Names,Pays)]\n",
    "while True:\n",
    "    Eng=input(\"please input English:\")\n",
    "    if Eng == 'End':\n",
    "        break\n",
    "    else:\n",
    "        for a,x in enumerate(Dict):\n",
    "            if Eng in x:\n",
    "                print(Dict[a][1])"
   ]
  },
  {
   "cell_type": "code",
   "execution_count": 28,
   "id": "5c816499",
   "metadata": {},
   "outputs": [
    {
     "name": "stdout",
     "output_type": "stream",
     "text": [
      "50\n"
     ]
    }
   ],
   "source": [
    "T = (20,30,40,50)\n",
    "print(max(T))"
   ]
  },
  {
   "cell_type": "code",
   "execution_count": 31,
   "id": "da4ac420",
   "metadata": {},
   "outputs": [
    {
     "name": "stdout",
     "output_type": "stream",
     "text": [
      "['student.', 'I', 'am', 'a', 'handsome.']\n"
     ]
    }
   ],
   "source": [
    "A = \"I am a student. I am handsome.\"\n",
    "A = A.split()\n",
    "A = set(A)\n",
    "A = list(A)\n",
    "print(A)"
   ]
  },
  {
   "cell_type": "code",
   "execution_count": 32,
   "id": "fddc17e0",
   "metadata": {},
   "outputs": [
    {
     "name": "stdout",
     "output_type": "stream",
     "text": [
      "好\n"
     ]
    }
   ],
   "source": [
    "D = {'Good':'好','Yes':'是','Morning':'早晨'}\n",
    "print(D['Good'])"
   ]
  },
  {
   "cell_type": "code",
   "execution_count": 35,
   "id": "3cea886b",
   "metadata": {},
   "outputs": [
    {
     "name": "stdout",
     "output_type": "stream",
     "text": [
      "{'Good': '好', 'Morining': '早晨', 'Yes': '是', 'I': '我'}\n",
      "{'Good': '好', 'Morining': '早晨', 'Yes': '是', 'I': '我'}\n"
     ]
    }
   ],
   "source": [
    "English=[\"Good\",\"Morining\",\"Yes\",\"I\"]\n",
    "Chinese=[\"好\",\"早晨\",\"是\",\"我\"]\n",
    "D = {eng:chi for eng, chi in zip(English,Chinese)}\n",
    "print(D)\n",
    "\n",
    "D2 = {eng:Chinese[i]  for i,eng in enumerate(English)}\n",
    "print(D2)"
   ]
  },
  {
   "cell_type": "code",
   "execution_count": 38,
   "id": "fc0a2fa4",
   "metadata": {},
   "outputs": [
    {
     "name": "stdout",
     "output_type": "stream",
     "text": [
      "Three companies and Missouri’s attorney general are asking the U.S. Supreme Court (SCOTUS) to stay the Biden administration’s vaccine mandates for private businesses with 100 or more employees..\n",
      "28 27\n"
     ]
    }
   ],
   "source": [
    "statement = \"Three companies and Missouri’s attorney general are asking the U.S. Supreme Court (SCOTUS) to stay the Biden administration’s vaccine mandates for private businesses with 100 or more employees..\"\n",
    "print(statement)\n",
    "M = len(statement.split(\" \"))\n",
    "L = list(set(statement.split(\" \")))\n",
    "N = len(L)\n",
    "print(M,N)"
   ]
  },
  {
   "cell_type": "code",
   "execution_count": 52,
   "id": "d1bdd46f",
   "metadata": {},
   "outputs": [
    {
     "name": "stdout",
     "output_type": "stream",
     "text": [
      "In wireless rechargeable sensor networks WRSNs target coverage is an important issue However most studies assumed that the sensors were powered by battery with fixed sensing radiuses\n",
      "======\n",
      "{'were': 0, 'the': 1, 'However': 2, 'sensors': 3, 'wireless': 4, 'In': 5, 'rechargeable': 6, 'WRSNs': 7, 'assumed': 8, 'most': 9, 'networks': 10, 'important': 11, 'powered': 12, 'is': 13, 'sensing': 14, 'battery': 15, 'fixed': 16, 'radiuses': 17, 'coverage': 18, 'issue': 19, 'sensor': 20, 'an': 21, 'that': 22, 'studies': 23, 'by': 24, 'with': 25, 'target': 26}\n",
      "======\n",
      "{0: 'were', 1: 'the', 2: 'However', 3: 'sensors', 4: 'wireless', 5: 'In', 6: 'rechargeable', 7: 'WRSNs', 8: 'assumed', 9: 'most', 10: 'networks', 11: 'important', 12: 'powered', 13: 'is', 14: 'sensing', 15: 'battery', 16: 'fixed', 17: 'radiuses', 18: 'coverage', 19: 'issue', 20: 'sensor', 21: 'an', 22: 'that', 23: 'studies', 24: 'by', 25: 'with', 26: 'target'}\n"
     ]
    }
   ],
   "source": [
    "Statements=\"In wireless rechargeable sensor networks (WRSNs), target coverage is an important issue. However, most studies assumed that the sensors were powered by battery with fixed sensing radiuses.\"\n",
    "Exclude = ['.',',','!','(',')']\n",
    "Statements = [word for word in Statements if word not in Exclude]\n",
    "Statements = \"\".join(Statements)\n",
    "print(Statements)\n",
    "print(\"======\")\n",
    "Word_list = list(set(Statements.split(\" \")))\n",
    "D = {w:i for i,w in enumerate(Word_list)}\n",
    "print(D)\n",
    "print(\"======\")\n",
    "reverse_D = {w:i for i,w in D.items()}\n",
    "print(reverse_D)"
   ]
  },
  {
   "cell_type": "code",
   "execution_count": null,
   "id": "8b26d2af",
   "metadata": {},
   "outputs": [],
   "source": [
    "Statements=\"In wireless rechargeable sensor networks (WRSNs), target coverage is an important issue. However, most studies assumed that the sensors were powered by battery with fixed sensing radiuses.\"\n",
    "# remove ,.()!\n",
    "# 建構一個字典 D={單字:數字,....}\n",
    "# 建構一個反字典 R_D{數字:單字,....}"
   ]
  },
  {
   "cell_type": "code",
   "execution_count": 60,
   "id": "2db747ea",
   "metadata": {},
   "outputs": [
    {
     "name": "stdout",
     "output_type": "stream",
     "text": [
      "{'Good': '好', 'Morining': '早晨', 'Yes': '是', 'I': '我'}\n",
      "Good\n",
      "Morining\n",
      "Yes\n",
      "I\n",
      "好\n",
      "早晨\n",
      "是\n",
      "我\n"
     ]
    }
   ],
   "source": [
    "English=[\"Good\",\"Morining\",\"Yes\",\"I\"]\n",
    "Chinese=[\"好\",\"早晨\",\"是\",\"我\"]\n",
    "D = {eng:chi for eng, chi in zip(English,Chinese)}\n",
    "print(D)\n",
    "for k in D.keys():\n",
    "    print(k)\n",
    "for v in D.values():\n",
    "    print(v)"
   ]
  },
  {
   "cell_type": "code",
   "execution_count": null,
   "id": "025bddbd",
   "metadata": {},
   "outputs": [],
   "source": []
  }
 ],
 "metadata": {
  "kernelspec": {
   "display_name": "Python 3 (ipykernel)",
   "language": "python",
   "name": "python3"
  },
  "language_info": {
   "codemirror_mode": {
    "name": "ipython",
    "version": 3
   },
   "file_extension": ".py",
   "mimetype": "text/x-python",
   "name": "python",
   "nbconvert_exporter": "python",
   "pygments_lexer": "ipython3",
   "version": "3.7.11"
  }
 },
 "nbformat": 4,
 "nbformat_minor": 5
}
