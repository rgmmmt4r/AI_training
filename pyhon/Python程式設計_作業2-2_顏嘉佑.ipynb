{
 "cells": [
  {
   "cell_type": "markdown",
   "id": "a1c55094",
   "metadata": {},
   "source": [
    "# 勞動部x國立陽明交大雷射中心-產業新尖兵計畫\n",
    "\n",
    "# AI跨領域數據科學人才培訓班\n",
    "\n",
    "Python程式設計\n",
    "\n",
    "上課時間：110/12/21(二) 9:00-12:00、18:00-20:00\n",
    "\n",
    "授課教師：張志勇老師\n"
   ]
  },
  {
   "cell_type": "markdown",
   "id": "3415baec",
   "metadata": {},
   "source": [
    "## Python程式設計_作業2-2\n",
    "\n",
    "檔名請依照格式命名，請記得修改這個記事本最上方的標題：Python程式設計_作業2-2_姓名"
   ]
  },
  {
   "cell_type": "code",
   "execution_count": 120,
   "id": "e6d555bb",
   "metadata": {},
   "outputs": [],
   "source": [
    "#請在冒號後面再次填入您的姓名：顏嘉佑"
   ]
  },
  {
   "cell_type": "markdown",
   "id": "85b63e24",
   "metadata": {},
   "source": [
    "## 第1題\n",
    "step1. 將\"database.txt\"讀至Python內，若資料中有出現\\n或\\t，是必須要拿掉的。（若不會讀檔的同學，直接宣告下方的list即可）\n",
    "\n",
    "       DB=[['A1', '鍵盤', 5, 300], ['A2', '滑鼠', 3, 200], ['A3', '鏡頭', 2, 700], ['A4', '麥克風', 3, 600], ['A5', '螢幕', 2, 2000]]\n",
    "<br>\n",
    "\n",
    "step2. 將讀出的檔案(List)以規定格式存放至DB字典內（原本沒有給「產品總價」，請記得自行加入）。\n",
    "\n",
    "       DB={產品編號: [產品名稱, 產品數量, 產品單價, 產品總價], 產品編號: [產品名稱, 產品數量, 產品單價, 產品總價]}\n",
    "        \n",
    "範例：  DB={A1: [\"鍵盤\", 5, 300, 5\\*300], A2: [\"滑鼠\", 3, 200, 3\\*200], ...}\n",
    "<br><br>\n",
    "\n",
    "step3. 設定一個能讓使用者輸入的功能，請顯示這段字串：\"所有功能：1.新增 2.刪除 3.修改 4.檢視 5.離開。\\n請輸入您想執行的功能：\"\n",
    "       若使用輸入非1~5之字元，則print('查無此功能，請重新輸入。')，並使用迴圈再跑一次step3。\n",
    "<br><br>\n",
    "\n",
    "step4. 輸入1時，執行「新增」副程式：新增2個「鏡頭」至資料庫中、修改總價、print(\"已增加2個鏡頭至資料庫\")，之後print出更改後的整個DB（輸出結果要像step7），最後結束整個Python程式。\n",
    "<br><br>\n",
    "\n",
    "step5. 輸入2時，執行「刪除」副程式：從資料庫中刪除「螢幕」、print(\"已從資料庫中刪除螢幕\")，之後print出更改後的整個DB（輸出結果要像step7），最後結束整個Python程式。\n",
    "<br><br>\n",
    "\n",
    "step6. 輸入3時，執行「修改」副程式：從資料庫中將「鍵盤」從5個修改成3個，請記得也要修改總價，並print(\"已將鍵盤數量5個修改為3個\")，之後print出更改後的整個DB（輸出結果要像step7），最後結束整個Python程式。\n",
    "<br><br>\n",
    "\n",
    "step7. 輸入4時，執行「檢視」副程式：請按照以下格式顯示整個DB，之後結束整個Python程式。\n",
    "    \n",
    "輸出範例如下：\n",
    "\n",
    "\t產品編號 產品名稱 產品數量 產品單價 產品總價\n",
    "    \n",
    "\tA1\t 鍵盤\t  3\t   300\t    900\n",
    "\t\n",
    "\t（以下資料省略）\n",
    "<br>\n",
    "\n",
    "step8. 輸入5時，結束整個Python程式。"
   ]
  },
  {
   "cell_type": "markdown",
   "id": "eda18536",
   "metadata": {},
   "source": [
    "## 主程式在最後\n"
   ]
  },
  {
   "cell_type": "code",
   "execution_count": 115,
   "id": "20e4b253",
   "metadata": {},
   "outputs": [],
   "source": [
    "def menu():\n",
    "    os.system(\"cls\")\n",
    "    while True:\n",
    "        choice = int(input(\"所有功能：：1.新增 2.刪除 3.修改 4.檢視 5.離開。\\n請輸入您想執行的功能：\" ))\n",
    "        if (chr(5)<chr(choice) or chr(choice) < chr(1)):\n",
    "            print('查無此功能，請重新輸入。')\n",
    "            continue\n",
    "        else:\n",
    "            return choice\n"
   ]
  },
  {
   "cell_type": "code",
   "execution_count": 116,
   "id": "3d1c7543",
   "metadata": {},
   "outputs": [],
   "source": [
    "def revice():\n",
    "    Db[\"A1\"][1] = 3\n",
    "    Db[\"A1\"][3] = 900\n",
    "    Db_head[1][2] = 3\n",
    "    Db_head[1][4] = 900\n",
    "    print(\"已將鍵盤數量5個修改為3個\")\n",
    "        "
   ]
  },
  {
   "cell_type": "code",
   "execution_count": 117,
   "id": "eac1b618",
   "metadata": {},
   "outputs": [],
   "source": [
    "def delete():\n",
    "    del Db[\"A5\"]\n",
    "    del Db_head[5]\n",
    "    print(\"已從資料庫中刪除螢幕\")"
   ]
  },
  {
   "cell_type": "code",
   "execution_count": 118,
   "id": "e0aac2b7",
   "metadata": {},
   "outputs": [],
   "source": [
    "import os,ast\n",
    "def create():\n",
    "    Db[\"A3\"][1] =  Db[\"A3\"][1] + 2\n",
    "    Db[\"A3\"][3] =  Db[\"A3\"][3] + 2*700   \n",
    "    Db_head[3][2] = Db_head[3][2] +2\n",
    "    Db_head[3][4] = Db_head[3][4] +2*700\n",
    "    print(\"已增加2個鏡頭至資料庫\")\n",
    "    "
   ]
  },
  {
   "cell_type": "code",
   "execution_count": 119,
   "id": "ecb97872",
   "metadata": {},
   "outputs": [],
   "source": [
    "def CountPrice(Db):\n",
    "    NDb = dict()\n",
    "    for item in Db:\n",
    "        item[2]=int(item[2])\n",
    "        item[3] = int(item[3])\n",
    "        item.append(int(item[2])*int(item[3]))\n",
    "    for item in Db:\n",
    "        NDb[item[0]] = item[1:]\n",
    "    return NDb\n",
    "    "
   ]
  },
  {
   "cell_type": "code",
   "execution_count": 120,
   "id": "61e4c867",
   "metadata": {},
   "outputs": [],
   "source": [
    "import os,ast\n",
    "def ReadData():\n",
    "    with open('database.txt','r',encoding = 'UTF-8-sig') as file:\n",
    "        #content = f.read()\n",
    "        content = file.readlines()    \n",
    "        #print(content)\n",
    "        Data = [data.strip() for data in content]\n",
    "        #print(Data)\n",
    "        Data = [data.split('\\t') for data in Data]\n",
    "        Db = Data\n",
    "        #print(Db)\n",
    "    return Db\n",
    "    '''\n",
    "    for person in Data:\n",
    "        for item in person:\n",
    "            print(item, end = \"\\t\")\n",
    "        print(\"\")\n",
    "\n",
    "    '''\n"
   ]
  },
  {
   "cell_type": "code",
   "execution_count": 128,
   "id": "b73e5302",
   "metadata": {},
   "outputs": [],
   "source": [
    "def look(Db_head):\n",
    "    Db_head[0].append(\"產品總價\")\n",
    "    for i in Db_head:\n",
    "        for item in i:\n",
    "            print(item,end = \"\\t\")\n",
    "        print(\"\")\n",
    "    #print(\"程式結束\")"
   ]
  },
  {
   "cell_type": "code",
   "execution_count": 134,
   "id": "1fe1a0cb",
   "metadata": {},
   "outputs": [
    {
     "name": "stdout",
     "output_type": "stream",
     "text": [
      "[['產品編號', '產品名稱', '產品數量', '產品價錢'], ['A1', '鍵盤', '5', '300'], ['A2', '滑鼠', '3', '200'], ['A3', '鏡頭', '2', '700'], ['A4', '麥克風', '3', '600'], ['A5', '螢幕', '2', '2000']]\n",
      "[['A1', '鍵盤', '5', '300'], ['A2', '滑鼠', '3', '200'], ['A3', '鏡頭', '2', '700'], ['A4', '麥克風', '3', '600'], ['A5', '螢幕', '2', '2000']]\n",
      "5\n",
      "產品編號\t產品名稱\t產品數量\t產品價錢\t產品總價\t\n",
      "A1\t鍵盤\t5\t300\t1500\t\n",
      "A2\t滑鼠\t3\t200\t600\t\n",
      "A3\t鏡頭\t2\t700\t1400\t\n",
      "A4\t麥克風\t3\t600\t1800\t\n",
      "A5\t螢幕\t2\t2000\t4000\t\n"
     ]
    }
   ],
   "source": [
    "# 這是for debug ，主程式在下面\n",
    "import os,ast\n",
    "data = dict()\n",
    "Db_head = ReadData()\n",
    "print(Db_head)\n",
    "Db = Db_head[1:]\n",
    "\n",
    "print(Db)\n",
    "\n",
    "Db = CountPrice(Db)\n",
    "#print(\"Count price: \",Db)\n",
    "#print(\"Db_head: \",Db_head)\n",
    "#choice = menu()\n",
    "print(choice)\n",
    "#create()\n",
    "#revice()\n",
    "#delete()\n",
    "look(Db_head)"
   ]
  },
  {
   "cell_type": "code",
   "execution_count": 135,
   "id": "052d6382",
   "metadata": {},
   "outputs": [
    {
     "name": "stdout",
     "output_type": "stream",
     "text": [
      "所有功能：：1.新增 2.刪除 3.修改 4.檢視 5.離開。\n",
      "請輸入您想執行的功能：1\n",
      "已增加2個鏡頭至資料庫\n",
      "產品編號\t產品名稱\t產品數量\t產品價錢\t產品總價\t\n",
      "A1\t鍵盤\t5\t300\t1500\t\n",
      "A2\t滑鼠\t3\t200\t600\t\n",
      "A3\t鏡頭\t4\t700\t2800\t\n",
      "A4\t麥克風\t3\t600\t1800\t\n",
      "A5\t螢幕\t2\t2000\t4000\t\n"
     ]
    }
   ],
   "source": [
    "#第1題回答區，若區塊不夠請自行添增。\n",
    "\n",
    "\n",
    "import os,ast\n",
    "data = dict()\n",
    "Db_head = ReadData()\n",
    "Db = Db_head[1:]\n",
    "\n",
    "#print(Db)\n",
    "\n",
    "Db = CountPrice(Db)\n",
    "#print(Db)\n",
    "choice = menu()\n",
    "#print(choice)\n",
    "\n",
    "while True:\n",
    "    if choice == 1:\n",
    "        create()\n",
    "        look(Db_head)\n",
    "        break\n",
    "    elif choice == 2:\n",
    "        delete()\n",
    "        look(Db_head)\n",
    "        break\n",
    "    elif choice == 3:\n",
    "        revice()\n",
    "        look(Db_head)\n",
    "        break\n",
    "    elif choice == 4:\n",
    "        look(Db_head)\n",
    "        break\n",
    "    else:\n",
    "        break\n",
    "\n"
   ]
  }
 ],
 "metadata": {
  "kernelspec": {
   "display_name": "Python 3 (ipykernel)",
   "language": "python",
   "name": "python3"
  },
  "language_info": {
   "codemirror_mode": {
    "name": "ipython",
    "version": 3
   },
   "file_extension": ".py",
   "mimetype": "text/x-python",
   "name": "python",
   "nbconvert_exporter": "python",
   "pygments_lexer": "ipython3",
   "version": "3.7.11"
  }
 },
 "nbformat": 4,
 "nbformat_minor": 5
}
