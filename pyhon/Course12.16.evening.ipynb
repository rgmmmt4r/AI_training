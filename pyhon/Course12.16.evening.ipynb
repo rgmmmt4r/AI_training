{
 "cells": [
  {
   "cell_type": "code",
   "execution_count": 8,
   "id": "5c146ae0",
   "metadata": {},
   "outputs": [
    {
     "name": "stdout",
     "output_type": "stream",
     "text": [
      "please input the starting number 1\n",
      "please input the ending number 3\n",
      "1 +...+ 3  =  6\n"
     ]
    }
   ],
   "source": [
    "start = int(input(\"please input the starting number \"))\n",
    "ending = int(input(\"please input the ending number \"))\n",
    "S = 0\n",
    "for i in range(start,ending +1):\n",
    "    S = S + i\n",
    "print(start, \"+...+\",ending,\" = \", S)"
   ]
  },
  {
   "cell_type": "code",
   "execution_count": 26,
   "id": "5bb26e5e",
   "metadata": {},
   "outputs": [
    {
     "name": "stdout",
     "output_type": "stream",
     "text": [
      "153\n"
     ]
    }
   ],
   "source": [
    "S = 0\n",
    "for i in range(1,6):\n",
    "    temp = 1\n",
    "    for j in range(1,i+1):\n",
    "        temp = temp * j\n",
    "    S += temp\n",
    "print(S)"
   ]
  },
  {
   "cell_type": "code",
   "execution_count": 16,
   "id": "b87066c1",
   "metadata": {},
   "outputs": [
    {
     "name": "stdout",
     "output_type": "stream",
     "text": [
      "24\n"
     ]
    }
   ],
   "source": [
    "P = 1\n",
    "for i in range(1,5):\n",
    "    P *= i\n",
    "print(P)"
   ]
  },
  {
   "cell_type": "code",
   "execution_count": 34,
   "id": "50a8f419",
   "metadata": {},
   "outputs": [
    {
     "name": "stdout",
     "output_type": "stream",
     "text": [
      "女\n",
      "我好帥\n",
      "我真的好帥\n"
     ]
    }
   ],
   "source": [
    "L = [\"張三\",25,176.5,False]\n",
    "for i in range(0,4):\n",
    "    if type(L[i]) == bool:\n",
    "        if L[i]:\n",
    "            print(\"男\")\n",
    "        else:\n",
    "            print(\"女\")\n",
    "L.append(\"我好帥\")\n",
    "print(L[4])\n",
    "del(L[4])\n",
    "L.append(\"我真的好帥\")\n",
    "print(L[4])"
   ]
  },
  {
   "cell_type": "code",
   "execution_count": 38,
   "id": "e39b0508",
   "metadata": {},
   "outputs": [
    {
     "name": "stdout",
     "output_type": "stream",
     "text": [
      "['顏先生', '王先生']\n",
      "['顏先生', '王小姐']\n"
     ]
    }
   ],
   "source": [
    "Names = [\"顏\",\"王\"]\n",
    "Mr_Names = []\n",
    "Sex = [True,False]\n",
    "for i in range(len(Names)):\n",
    "    Mr_Names.append(Names[i]+\"先生\")\n",
    "print(Mr_Names)\n",
    "Mr_Names = []\n",
    "for i in range(len(Names)):\n",
    "    if Sex[i]:\n",
    "         Mr_Names.append(Names[i]+\"先生\")\n",
    "    else:\n",
    "        Mr_Names.append(Names[i]+\"小姐\")\n",
    "print(Mr_Names)"
   ]
  },
  {
   "cell_type": "code",
   "execution_count": 41,
   "id": "e26c658e",
   "metadata": {},
   "outputs": [
    {
     "name": "stdout",
     "output_type": "stream",
     "text": [
      "['陳', '王', '李', '張']\n"
     ]
    }
   ],
   "source": [
    "Names = [\"張\",\"李\",\"王\",\"陳\"]\n",
    "RNames = []\n",
    "for i in range(len(Names)-1,-1,-1):\n",
    "    RNames.append(Names[i])\n",
    "print(RNames)"
   ]
  },
  {
   "cell_type": "code",
   "execution_count": 42,
   "id": "f6a83ce7",
   "metadata": {},
   "outputs": [
    {
     "name": "stdout",
     "output_type": "stream",
     "text": [
      "296\n"
     ]
    }
   ],
   "source": [
    "Scores=[80,90,56,70]\n",
    "sum = 0\n",
    "for i in range(len(Scores)):\n",
    "    sum += Scores[i]\n",
    "print(sum)"
   ]
  },
  {
   "cell_type": "code",
   "execution_count": 55,
   "id": "55e0a5f5",
   "metadata": {},
   "outputs": [
    {
     "name": "stdout",
     "output_type": "stream",
     "text": [
      "請輸入數字2\n",
      "1 0\n"
     ]
    },
    {
     "ename": "KeyboardInterrupt",
     "evalue": "Interrupted by user",
     "output_type": "error",
     "traceback": [
      "\u001b[1;31m---------------------------------------------------------------------------\u001b[0m",
      "\u001b[1;31mKeyboardInterrupt\u001b[0m                         Traceback (most recent call last)",
      "\u001b[1;32m~\\AppData\\Local\\Temp/ipykernel_2952/1069916932.py\u001b[0m in \u001b[0;36m<module>\u001b[1;34m\u001b[0m\n\u001b[0;32m     12\u001b[0m                 \u001b[0mB\u001b[0m\u001b[1;33m+=\u001b[0m\u001b[1;36m1\u001b[0m\u001b[1;33m\u001b[0m\u001b[1;33m\u001b[0m\u001b[0m\n\u001b[0;32m     13\u001b[0m     \u001b[0mprint\u001b[0m\u001b[1;33m(\u001b[0m\u001b[0mA\u001b[0m\u001b[1;33m,\u001b[0m\u001b[0mB\u001b[0m\u001b[1;33m)\u001b[0m\u001b[1;33m\u001b[0m\u001b[1;33m\u001b[0m\u001b[0m\n\u001b[1;32m---> 14\u001b[1;33m     \u001b[0mnums\u001b[0m \u001b[1;33m=\u001b[0m \u001b[0minput\u001b[0m\u001b[1;33m(\u001b[0m\u001b[1;34m\"請輸入數字\"\u001b[0m\u001b[1;33m)\u001b[0m\u001b[1;33m\u001b[0m\u001b[1;33m\u001b[0m\u001b[0m\n\u001b[0m\u001b[0;32m     15\u001b[0m \u001b[0mprint\u001b[0m\u001b[1;33m(\u001b[0m\u001b[1;34m\"恭喜答對\"\u001b[0m\u001b[1;33m)\u001b[0m\u001b[1;33m\u001b[0m\u001b[1;33m\u001b[0m\u001b[0m\n",
      "\u001b[1;32m~\\anaconda3\\envs\\ai37\\lib\\site-packages\\ipykernel\\kernelbase.py\u001b[0m in \u001b[0;36mraw_input\u001b[1;34m(self, prompt)\u001b[0m\n\u001b[0;32m   1008\u001b[0m             \u001b[0mself\u001b[0m\u001b[1;33m.\u001b[0m\u001b[0m_parent_ident\u001b[0m\u001b[1;33m[\u001b[0m\u001b[1;34m\"shell\"\u001b[0m\u001b[1;33m]\u001b[0m\u001b[1;33m,\u001b[0m\u001b[1;33m\u001b[0m\u001b[1;33m\u001b[0m\u001b[0m\n\u001b[0;32m   1009\u001b[0m             \u001b[0mself\u001b[0m\u001b[1;33m.\u001b[0m\u001b[0mget_parent\u001b[0m\u001b[1;33m(\u001b[0m\u001b[1;34m\"shell\"\u001b[0m\u001b[1;33m)\u001b[0m\u001b[1;33m,\u001b[0m\u001b[1;33m\u001b[0m\u001b[1;33m\u001b[0m\u001b[0m\n\u001b[1;32m-> 1010\u001b[1;33m             \u001b[0mpassword\u001b[0m\u001b[1;33m=\u001b[0m\u001b[1;32mFalse\u001b[0m\u001b[1;33m,\u001b[0m\u001b[1;33m\u001b[0m\u001b[1;33m\u001b[0m\u001b[0m\n\u001b[0m\u001b[0;32m   1011\u001b[0m         )\n\u001b[0;32m   1012\u001b[0m \u001b[1;33m\u001b[0m\u001b[0m\n",
      "\u001b[1;32m~\\anaconda3\\envs\\ai37\\lib\\site-packages\\ipykernel\\kernelbase.py\u001b[0m in \u001b[0;36m_input_request\u001b[1;34m(self, prompt, ident, parent, password)\u001b[0m\n\u001b[0;32m   1049\u001b[0m             \u001b[1;32mexcept\u001b[0m \u001b[0mKeyboardInterrupt\u001b[0m\u001b[1;33m:\u001b[0m\u001b[1;33m\u001b[0m\u001b[1;33m\u001b[0m\u001b[0m\n\u001b[0;32m   1050\u001b[0m                 \u001b[1;31m# re-raise KeyboardInterrupt, to truncate traceback\u001b[0m\u001b[1;33m\u001b[0m\u001b[1;33m\u001b[0m\u001b[1;33m\u001b[0m\u001b[0m\n\u001b[1;32m-> 1051\u001b[1;33m                 \u001b[1;32mraise\u001b[0m \u001b[0mKeyboardInterrupt\u001b[0m\u001b[1;33m(\u001b[0m\u001b[1;34m\"Interrupted by user\"\u001b[0m\u001b[1;33m)\u001b[0m \u001b[1;32mfrom\u001b[0m \u001b[1;32mNone\u001b[0m\u001b[1;33m\u001b[0m\u001b[1;33m\u001b[0m\u001b[0m\n\u001b[0m\u001b[0;32m   1052\u001b[0m             \u001b[1;32mexcept\u001b[0m \u001b[0mException\u001b[0m\u001b[1;33m:\u001b[0m\u001b[1;33m\u001b[0m\u001b[1;33m\u001b[0m\u001b[0m\n\u001b[0;32m   1053\u001b[0m                 \u001b[0mself\u001b[0m\u001b[1;33m.\u001b[0m\u001b[0mlog\u001b[0m\u001b[1;33m.\u001b[0m\u001b[0mwarning\u001b[0m\u001b[1;33m(\u001b[0m\u001b[1;34m\"Invalid Message:\"\u001b[0m\u001b[1;33m,\u001b[0m \u001b[0mexc_info\u001b[0m\u001b[1;33m=\u001b[0m\u001b[1;32mTrue\u001b[0m\u001b[1;33m)\u001b[0m\u001b[1;33m\u001b[0m\u001b[1;33m\u001b[0m\u001b[0m\n",
      "\u001b[1;31mKeyboardInterrupt\u001b[0m: Interrupted by user"
     ]
    }
   ],
   "source": [
    "Ans = \"256\"\n",
    "nums = input(\"請輸入數字\")\n",
    "A,B =0,0\n",
    "while(Ans != nums):\n",
    "    A,B =0,0\n",
    "    for i in range(len(nums)):\n",
    "        for j in range(3):\n",
    "            if i == j:\n",
    "                if Ans[i] == nums[i]:\n",
    "                    A+=1\n",
    "            elif nums[i] == Ans[j]:\n",
    "                B+=1\n",
    "    print(A,B)\n",
    "    nums = input(\"請輸入數字\")\n",
    "print(\"恭喜答對\")"
   ]
  },
  {
   "cell_type": "code",
   "execution_count": 46,
   "id": "6f0c6096",
   "metadata": {},
   "outputs": [
    {
     "name": "stdout",
     "output_type": "stream",
     "text": [
      "請輸入數字256\n"
     ]
    }
   ],
   "source": [
    "nums = input(\"請輸入數字\")"
   ]
  },
  {
   "cell_type": "code",
   "execution_count": null,
   "id": "0adc00ed",
   "metadata": {},
   "outputs": [],
   "source": []
  }
 ],
 "metadata": {
  "kernelspec": {
   "display_name": "Python 3 (ipykernel)",
   "language": "python",
   "name": "python3"
  },
  "language_info": {
   "codemirror_mode": {
    "name": "ipython",
    "version": 3
   },
   "file_extension": ".py",
   "mimetype": "text/x-python",
   "name": "python",
   "nbconvert_exporter": "python",
   "pygments_lexer": "ipython3",
   "version": "3.7.11"
  }
 },
 "nbformat": 4,
 "nbformat_minor": 5
}
