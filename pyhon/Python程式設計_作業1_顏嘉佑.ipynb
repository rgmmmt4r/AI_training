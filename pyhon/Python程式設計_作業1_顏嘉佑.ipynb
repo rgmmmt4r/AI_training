{
 "cells": [
  {
   "cell_type": "markdown",
   "id": "a1c55094",
   "metadata": {},
   "source": [
    "# 勞動部x國立陽明交大雷射中心-產業新尖兵計畫\n",
    "\n",
    "# AI跨領域數據科學人才培訓班\n",
    "\n",
    "Python程式設計\n",
    "\n",
    "上課時間：110/12/19(日) 9:00-12:00、13:30-16:30\n",
    "\n",
    "授課教師：張志勇老師\n"
   ]
  },
  {
   "cell_type": "markdown",
   "id": "3415baec",
   "metadata": {},
   "source": [
    "## Python程式設計_作業1\n",
    "\n",
    "檔名請依照格式命名，請記得修改這個記事本最上方的標題：Python程式設計_作業1_姓名"
   ]
  },
  {
   "cell_type": "code",
   "execution_count": null,
   "id": "e6d555bb",
   "metadata": {},
   "outputs": [],
   "source": [
    "#請在冒號後面再次填入您的姓名： 顏嘉佑"
   ]
  },
  {
   "cell_type": "markdown",
   "id": "85b63e24",
   "metadata": {},
   "source": [
    "## 第1題\n",
    "\n",
    "1\\. 輸入一個字串長度至少 4 的密碼。\n",
    "\n",
    "2\\. 檢查是否至少有一個字元是英文，且至少有一個字元是數字。\n",
    "\n",
    "3\\. 整個字串只能由英文和數字組成，其它字元都非法。"
   ]
  },
  {
   "cell_type": "code",
   "execution_count": null,
   "id": "052d6382",
   "metadata": {},
   "outputs": [],
   "source": [
    "#第1題回答區\n",
    "while True:\n",
    "    format = True #判斷有沒有數字或是英文字母以外的東西\n",
    "    lenth = True #判斷輸入的長度是否夠長\n",
    "    number = False #判斷有沒有數字\n",
    "    charter = False #判斷有沒有英文字母\n",
    "    nums = input(\"請輸入密碼，大小寫有分，長度至少為4:  \")\n",
    "    if len(nums) < 4:\n",
    "        print(\"長度太短\")\n",
    "        lenth = False\n",
    "        continue\n",
    "    if lenth:\n",
    "        for i in range(len(nums)):\n",
    "            n = ord(nums[i])\n",
    "            if n <48 or (57 < n  and n <65) or (90 < n  and n <97) or n > 122:\n",
    "                print(\"只能輸入數字或是英文字母\")\n",
    "                format = False\n",
    "                continue\n",
    "            if  (48<=n and n<=57):\n",
    "                number = True\n",
    "            if (65 <= n and n <= 90) or ( 97<= n and n <= 122):\n",
    "                charter = True\n",
    "        if  number and charter:  \n",
    "            print(\"密碼格式正確\")\n",
    "            break\n",
    "        elif ~number and charter:\n",
    "            print(\"至少要一個數字\")\n",
    "        elif ~charter and number:\n",
    "            print(\"至少要一個英文字母\")\n",
    "        else:\n",
    "            print(\"至少要一個數字及一個英文字母\")\n"
   ]
  },
  {
   "cell_type": "markdown",
   "id": "2f92401b",
   "metadata": {},
   "source": [
    "## 第2題\n",
    "\n",
    "1\\. 已知一段英文文章\n",
    "\n",
    "2\\. 將每個單字依字母分類，並以其大寫的 ascii code 當作 key，將這些同起始字母的單字放 value 中，形成一個字典。\n",
    "\n",
    "3\\. 範例如下：\n",
    "\n",
    "先定義一個Statements=\"Today is Sunday. Tomorrow is Monday. Many things!\"\n",
    "\n",
    "這時透過程式自動產生一個字典D，D={84:\\['Today','Tomorrow','things'\\],73:\\['is'\\], 83:\\['Sunday'\\] 77:\\['Monday','Many'\\]}\n",
    "\n",
    "4\\. 讓使用者輸入字母，查該字母可能的單字。"
   ]
  },
  {
   "cell_type": "code",
   "execution_count": null,
   "id": "9c3acf97",
   "metadata": {
    "scrolled": true
   },
   "outputs": [],
   "source": [
    "#第2題回答區\n",
    "Statements=\"Today is Sunday. Tomorrow is Monday. Many things!\"\n",
    "Exclude = ['.','!']\n",
    "Statements = [word for word in Statements if word not in Exclude]\n",
    "Statements = \"\".join(Statements)\n",
    "Statements = Statements.split(\" \")\n",
    "\n",
    "#print(Statements)\n",
    "\n",
    "Dict = {}\n",
    "\n",
    "for index in Statements:\n",
    "    n = ord(index[0].title()) # n 是Statements 中，每個字首的大寫，轉換為ASCII code\n",
    "    if n in Dict:\n",
    "        if index not in  Dict[n]: #避免重複\n",
    "            Dict[n].append(index)\n",
    "    else:\n",
    "        Dict[n] = [index]\n",
    "\n",
    "#print(Dict)\n",
    "while True:\n",
    "    char_in = input(\"請輸入字母，可查詢該字母開頭可能的單字，若完成查詢，請輸入-1:  \")\n",
    "    if char_in == \"-1\":\n",
    "        break\n",
    "    num_in = ord(char_in.title())\n",
    "    if num_in in Dict.keys():\n",
    "        print(Dict[num_in])\n",
    "    else:\n",
    "        print(\"查無此字\")\n"
   ]
  },
  {
   "cell_type": "markdown",
   "id": "06a02ae6",
   "metadata": {},
   "source": [
    "## 第3題\n",
    "\n",
    "已知字典 X={0:”You”, 1:“Like”, 2:“I”:”, 3:”Me”, 4:”Are”, 5:”Am”, 6: “Fine”, 7:”And”}\n",
    "\n",
    "List Y=\\[\\[2,1,0\\],\\[2,5,6\\],\\[0,7,3,4,6\\]\\]\n",
    "\n",
    "已知 Y 中每個元素對應字典的一句話，請將 Y 所對應的每一句話印出。"
   ]
  },
  {
   "cell_type": "code",
   "execution_count": null,
   "id": "e43894f8",
   "metadata": {},
   "outputs": [],
   "source": [
    "#第3題回答區\n",
    "X= {0:\"You\", 1:\"Like\", 2:\"I\", 3:\"Me\", 4:\"Are\", 5:\"Am\", 6: \"Fine\", 7:\"And\"}\n",
    "Y=[[2,1,0],[2,5,6],[0,7,3,4,6]]\n",
    "for List in Y:\n",
    "    for key in List:\n",
    "        print (X[key], end = \" \")\n",
    "    print(\"\")"
   ]
  }
 ],
 "metadata": {
  "kernelspec": {
   "display_name": "Python 3 (ipykernel)",
   "language": "python",
   "name": "python3"
  },
  "language_info": {
   "codemirror_mode": {
    "name": "ipython",
    "version": 3
   },
   "file_extension": ".py",
   "mimetype": "text/x-python",
   "name": "python",
   "nbconvert_exporter": "python",
   "pygments_lexer": "ipython3",
   "version": "3.7.11"
  }
 },
 "nbformat": 4,
 "nbformat_minor": 5
}
