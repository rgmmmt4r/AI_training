{
 "cells": [
  {
   "cell_type": "code",
   "execution_count": 7,
   "id": "13cf0cda",
   "metadata": {},
   "outputs": [
    {
     "name": "stdout",
     "output_type": "stream",
     "text": [
      "請輸入年紀17\n",
      "請輸入購買金額3200\n",
      "您好:\n",
      "因為購買大金額獲得打折\n",
      "因為購買大金額獲得打折\n",
      "金額: 1728.0\n"
     ]
    }
   ],
   "source": [
    "age = int(input(\"請輸入年紀\"))\n",
    "Buy = int(input(\"請輸入購買金額\"))\n",
    "Much_Money_Flag = True\n",
    "if Buy >=3000:\n",
    "    pay = Buy * 0.6\n",
    "elif Buy >=2000:\n",
    "    pay = Buy * 0.7\n",
    "elif Buy >= 1000:\n",
    "    pay = Buy * 0.8\n",
    "else:\n",
    "    pay = Buy\n",
    "    Much_Money_Flag = False\n",
    "Weak_age = False\n",
    "if age >65 or age <18:\n",
    "    pay = pay * 0.9\n",
    "    Weak_age = True\n",
    "out = \"\"\n",
    "print(\"您好:\")\n",
    "if Much_Money_Flag:\n",
    "    out = \"因為購買大金額獲得打折\\n\"\n",
    "if Weak_age:\n",
    "    out = out + \"因為購買大金額獲得打折\\n\"\n",
    "out = out + \"金額:\"\n",
    "print(out,pay)"
   ]
  },
  {
   "cell_type": "code",
   "execution_count": 14,
   "id": "c25e52ac",
   "metadata": {},
   "outputs": [
    {
     "name": "stdout",
     "output_type": "stream",
     "text": [
      "   EDDIE       eddie       Eddie       EDDIE   \n",
      "~eddie   ~\n",
      "~   eddie~\n",
      "~eddie~\n"
     ]
    }
   ],
   "source": [
    "A = \"   eddie   \"\n",
    "start,end = \"~\",\"~\"\n",
    "B = A.upper()\n",
    "C = A.lower()\n",
    "D = A.title()\n",
    "E = A.swapcase()\n",
    "F = A.lstrip()\n",
    "G = A.rstrip()\n",
    "H = A.strip()\n",
    "print(B,C,D,E)\n",
    "print(start+F+end)\n",
    "print(start+G+end)\n",
    "print(start+H+end)"
   ]
  },
  {
   "cell_type": "code",
   "execution_count": 17,
   "id": "8532b18a",
   "metadata": {},
   "outputs": [
    {
     "name": "stdout",
     "output_type": "stream",
     "text": [
      "i:  0  我好帥\n",
      "真的\n",
      "i:  1  我好帥\n",
      "真的\n",
      "i:  2  我好帥\n",
      "真的\n",
      "i:  3  我好帥\n",
      "真的\n",
      "i:  4  我好帥\n",
      "真的\n",
      "真的好帥\n"
     ]
    }
   ],
   "source": [
    "for i in range(5):\n",
    "    print(\"i: \",i, \" 我好帥\")\n",
    "    print(\"真的\")\n",
    "print(\"真的好帥\")"
   ]
  },
  {
   "cell_type": "code",
   "execution_count": 19,
   "id": "8d7c5375",
   "metadata": {},
   "outputs": [
    {
     "name": "stdout",
     "output_type": "stream",
     "text": [
      "4\n",
      "6\n",
      "8\n",
      "10\n",
      "12\n"
     ]
    }
   ],
   "source": [
    "for i in range(5):\n",
    "    print(2*i + 4)"
   ]
  },
  {
   "cell_type": "code",
   "execution_count": 33,
   "id": "08a3f0b2",
   "metadata": {},
   "outputs": [
    {
     "name": "stdout",
     "output_type": "stream",
     "text": [
      "1 * 1 = 1\t1 * 2 = 2\t1 * 3 = 3\t1 * 4 = 4\t1 * 5 = 5\t1 * 6 = 6\t\n",
      "1 * 7 = 7\t1 * 8 = 8\t1 * 9 = 9\t2 * 1 = 2\t2 * 2 = 4\t2 * 3 = 6\t\n",
      "2 * 4 = 8\t2 * 5 = 10\t2 * 6 = 12\t2 * 7 = 14\t2 * 8 = 16\t2 * 9 = 18\t\n",
      "3 * 1 = 3\t3 * 2 = 6\t3 * 3 = 9\t3 * 4 = 12\t3 * 5 = 15\t3 * 6 = 18\t\n",
      "3 * 7 = 21\t3 * 8 = 24\t3 * 9 = 27\t4 * 1 = 4\t4 * 2 = 8\t4 * 3 = 12\t\n",
      "4 * 4 = 16\t4 * 5 = 20\t4 * 6 = 24\t4 * 7 = 28\t4 * 8 = 32\t4 * 9 = 36\t\n",
      "5 * 1 = 5\t5 * 2 = 10\t5 * 3 = 15\t5 * 4 = 20\t5 * 5 = 25\t5 * 6 = 30\t\n",
      "5 * 7 = 35\t5 * 8 = 40\t5 * 9 = 45\t6 * 1 = 6\t6 * 2 = 12\t6 * 3 = 18\t\n",
      "6 * 4 = 24\t6 * 5 = 30\t6 * 6 = 36\t6 * 7 = 42\t6 * 8 = 48\t6 * 9 = 54\t\n",
      "7 * 1 = 7\t7 * 2 = 14\t7 * 3 = 21\t7 * 4 = 28\t7 * 5 = 35\t7 * 6 = 42\t\n",
      "7 * 7 = 49\t7 * 8 = 56\t7 * 9 = 63\t8 * 1 = 8\t8 * 2 = 16\t8 * 3 = 24\t\n",
      "8 * 4 = 32\t8 * 5 = 40\t8 * 6 = 48\t8 * 7 = 56\t8 * 8 = 64\t8 * 9 = 72\t\n",
      "9 * 1 = 9\t9 * 2 = 18\t9 * 3 = 27\t9 * 4 = 36\t9 * 5 = 45\t9 * 6 = 54\t\n",
      "9 * 7 = 63\t9 * 8 = 72\t9 * 9 = 81\t"
     ]
    }
   ],
   "source": [
    "for i in range(1,10):\n",
    "    for j in range(1,10):\n",
    "        print(i,\"*\",j ,\"=\",i*j,end = \"\\t\")\n",
    "        if ((i-1)*9+j)%6 ==0:\n",
    "            print(\"\")"
   ]
  },
  {
   "cell_type": "code",
   "execution_count": 44,
   "id": "d78bfbe4",
   "metadata": {},
   "outputs": [
    {
     "name": "stdout",
     "output_type": "stream",
     "text": [
      "    *\n",
      "   ***\n",
      "  *****\n",
      " *******\n"
     ]
    }
   ],
   "source": [
    "#正三角\n",
    "for i in range(1,5):\n",
    "    for j in range(5-i):\n",
    "        print(\" \", end =\"\")\n",
    "    for k in range(i*2-1):\n",
    "        print(\"*\", end = \"\")\n",
    "    print(\"\")"
   ]
  },
  {
   "cell_type": "code",
   "execution_count": 47,
   "id": "d3750d87",
   "metadata": {},
   "outputs": [
    {
     "name": "stdout",
     "output_type": "stream",
     "text": [
      " *\n",
      "  *\n",
      "   *\n",
      "    *\n"
     ]
    }
   ],
   "source": [
    "for i in range(1,5):\n",
    "    for j in range(i):\n",
    "        print(\" \", end =\"\")\n",
    "    print(\"*\")"
   ]
  },
  {
   "cell_type": "code",
   "execution_count": 52,
   "id": "aeb4ff0b",
   "metadata": {},
   "outputs": [
    {
     "name": "stdout",
     "output_type": "stream",
     "text": [
      "*****\n",
      "****\n",
      "***\n",
      "**\n",
      "*\n"
     ]
    }
   ],
   "source": [
    "for i in range(0,5):\n",
    "    for j in range(5-i):\n",
    "        print(\"*\",end = \"\")\n",
    "    print(\"\")"
   ]
  },
  {
   "cell_type": "code",
   "execution_count": 53,
   "id": "daa1e5ea",
   "metadata": {},
   "outputs": [
    {
     "name": "stdout",
     "output_type": "stream",
     "text": [
      "*******\n",
      " *****\n",
      "  ***\n",
      "   *\n"
     ]
    }
   ],
   "source": [
    "for i in range(4):\n",
    "    for j in range(i): # 印空格\n",
    "        print(\" \", end =\"\")\n",
    "    for k in range(8-(i*2+1)):\n",
    "        print(\"*\", end = \"\")\n",
    "    print(\"\")"
   ]
  },
  {
   "cell_type": "code",
   "execution_count": null,
   "id": "c57f6256",
   "metadata": {},
   "outputs": [],
   "source": []
  }
 ],
 "metadata": {
  "kernelspec": {
   "display_name": "Python 3 (ipykernel)",
   "language": "python",
   "name": "python3"
  },
  "language_info": {
   "codemirror_mode": {
    "name": "ipython",
    "version": 3
   },
   "file_extension": ".py",
   "mimetype": "text/x-python",
   "name": "python",
   "nbconvert_exporter": "python",
   "pygments_lexer": "ipython3",
   "version": "3.7.11"
  }
 },
 "nbformat": 4,
 "nbformat_minor": 5
}
