{
 "cells": [
  {
   "cell_type": "code",
   "execution_count": 2,
   "id": "71891132",
   "metadata": {},
   "outputs": [
    {
     "name": "stdout",
     "output_type": "stream",
     "text": [
      "[0, 0, 0, 0, 0]\n"
     ]
    }
   ],
   "source": [
    "L = [0 for i in range(5)]\n",
    "print(L)"
   ]
  },
  {
   "cell_type": "code",
   "execution_count": 3,
   "id": "bd454f8b",
   "metadata": {},
   "outputs": [
    {
     "name": "stdout",
     "output_type": "stream",
     "text": [
      "[0, 1, 2, 3, 4]\n"
     ]
    }
   ],
   "source": [
    "L = [i for i in range(5)]\n",
    "print(L)"
   ]
  },
  {
   "cell_type": "code",
   "execution_count": 4,
   "id": "c1605f61",
   "metadata": {},
   "outputs": [
    {
     "name": "stdout",
     "output_type": "stream",
     "text": [
      "[3, 4, 5, 6, 7]\n"
     ]
    }
   ],
   "source": [
    "L = [i+3 for i in range(5)]\n",
    "print(L)"
   ]
  },
  {
   "cell_type": "code",
   "execution_count": 6,
   "id": "e776412b",
   "metadata": {},
   "outputs": [
    {
     "name": "stdout",
     "output_type": "stream",
     "text": [
      "[30, 40, 50, 60, 70]\n"
     ]
    }
   ],
   "source": [
    "A = [20,30,40,50,60]\n",
    "M = [a +10 for a in A]\n",
    "print(M)"
   ]
  },
  {
   "cell_type": "code",
   "execution_count": 7,
   "id": "fb79502c",
   "metadata": {},
   "outputs": [
    {
     "name": "stdout",
     "output_type": "stream",
     "text": [
      "[6, 7, 8, 9]\n"
     ]
    }
   ],
   "source": [
    "L = [i for i in range(10) if i >5]\n",
    "print(L)"
   ]
  },
  {
   "cell_type": "code",
   "execution_count": 8,
   "id": "8df0c78c",
   "metadata": {},
   "outputs": [
    {
     "name": "stdout",
     "output_type": "stream",
     "text": [
      "['John']\n"
     ]
    }
   ],
   "source": [
    "Names = [\"Mary\",\"John\"]\n",
    "Pays = [5000,6000]\n",
    "High_Pays = [names for i, names in enumerate(Names) if Pays[i] >5000 ]\n",
    "print(High_Pays)"
   ]
  },
  {
   "cell_type": "code",
   "execution_count": 13,
   "id": "f08f8f8f",
   "metadata": {},
   "outputs": [
    {
     "name": "stdout",
     "output_type": "stream",
     "text": [
      "['Mr.John', 'Ms.Mary', 'Ms.David', 'Mr.Hellen']\n"
     ]
    }
   ],
   "source": [
    "Names=[\"John\",\"Mary\",\"Lucy\",\"David\",\"Hellen\"]\n",
    "Sex=[True,False,True,False,True]\n",
    "Pays=[35000,25000,61000,32000,25000]\n",
    "M= []\n",
    "#M = [ \"Mr.\" + names for i, names in enumerate(Names) if Pays[i] < 8000 and Sex[i] == True]\n",
    "for i,names in enumerate(Names):\n",
    "    if  Pays[i] < 40000 and Sex[i] == True:\n",
    "        M.append(\"Mr.\" + names)\n",
    "    elif  Pays[i] < 40000 and Sex[i] == False:\n",
    "        M.append(\"Ms.\" + names)\n",
    "print(M)"
   ]
  },
  {
   "cell_type": "code",
   "execution_count": 15,
   "id": "ddfc2175",
   "metadata": {},
   "outputs": [
    {
     "name": "stdout",
     "output_type": "stream",
     "text": [
      "['Mr John', 'Ms Mary', 'Ms David', 'Mr Hellen']\n"
     ]
    }
   ],
   "source": [
    "Names=[\"John\",\"Mary\",\"Lucy\",\"David\",\"Hellen\"]\n",
    "Sex=[True,False,True,False,True]\n",
    "Pays=[35000,25000,61000,32000,25000]\n",
    "MrMs = [\"Ms\",\"Mr\"]\n",
    "M = [MrMs[Sex[i]] + \" \" + name for i,name in enumerate(Names) if Pays[i] < 40000] \n",
    "\n",
    "print(M)"
   ]
  },
  {
   "cell_type": "code",
   "execution_count": 31,
   "id": "640c6725",
   "metadata": {},
   "outputs": [
    {
     "name": "stdout",
     "output_type": "stream",
     "text": [
      "[[0, 0, 0, 0, 0], [0, 0, 0, 0, 0], [0, 0, 0, 0, 0]]\n",
      "[[1, 2, 3], [1, 2, 3], [1, 2, 3]]\n",
      "[[3, 2, 1], [3, 2, 1], [3, 2, 1]]\n",
      "[[1, 2, 3], [2, 3, 1], [3, 1, 2]]\n"
     ]
    }
   ],
   "source": [
    "A = [[0 for i in range(5)] for i in range(3)]\n",
    "B = [[i for i in range(1,4)] for i in range(3)]\n",
    "C = [[i for i in range(3,0,-1)] for i in range(3)]\n",
    "D = [[(i+j)%3 +1  for i in range(3)] for j in range(3)]\n",
    "print(A)\n",
    "print(B)\n",
    "print(C)\n",
    "print(D)"
   ]
  },
  {
   "cell_type": "code",
   "execution_count": 34,
   "id": "d72b9e8f",
   "metadata": {},
   "outputs": [
    {
     "name": "stdout",
     "output_type": "stream",
     "text": [
      "[[1, 0, 0, 0, 0], [0, 1, 0, 0, 0], [0, 0, 1, 0, 0], [0, 0, 0, 1, 0], [0, 0, 0, 0, 1]]\n"
     ]
    }
   ],
   "source": [
    "\n",
    "L = [[int(i==j) for j in range(5)]for i in range(5)]\n",
    "print(L)"
   ]
  },
  {
   "cell_type": "code",
   "execution_count": 36,
   "id": "cf0be33b",
   "metadata": {},
   "outputs": [
    {
     "name": "stdout",
     "output_type": "stream",
     "text": [
      "50\n",
      "40\n",
      "30\n",
      "20\n"
     ]
    }
   ],
   "source": [
    "A = [20,30,40,50]\n",
    "for i in range(1,len(A)+1):\n",
    "    print(A[-1*i])"
   ]
  },
  {
   "cell_type": "code",
   "execution_count": 68,
   "id": "f6d9c422",
   "metadata": {},
   "outputs": [
    {
     "name": "stdout",
     "output_type": "stream",
     "text": [
      "[30, 40, 40]\n",
      "40\n",
      "110\n",
      "70\n",
      "0\n"
     ]
    }
   ],
   "source": [
    "A = [40,30,40]\n",
    "A.sort()\n",
    "print(A)\n",
    "print(max(A))\n",
    "print(sum(A))\n",
    "print(sum(A[:2]))\n",
    "print(A.index(30))"
   ]
  },
  {
   "cell_type": "code",
   "execution_count": 53,
   "id": "c01cf10d",
   "metadata": {},
   "outputs": [
    {
     "name": "stdout",
     "output_type": "stream",
     "text": [
      "1\n"
     ]
    }
   ],
   "source": [
    "A = [\"John\"]\n",
    "k = a.count(\"John\")\n",
    "print(k)"
   ]
  },
  {
   "cell_type": "code",
   "execution_count": 65,
   "id": "55f0772f",
   "metadata": {},
   "outputs": [
    {
     "name": "stdout",
     "output_type": "stream",
     "text": [
      "EDDIE\n",
      "eddie\n"
     ]
    }
   ],
   "source": [
    "A = [\"eddie\"]\n",
    "A[0] =A[0].upper()\n",
    "print(A[0])\n",
    "A[0] =A[0].lower()\n",
    "print(A[0])"
   ]
  },
  {
   "cell_type": "code",
   "execution_count": 72,
   "id": "432f3d44",
   "metadata": {},
   "outputs": [
    {
     "name": "stdout",
     "output_type": "stream",
     "text": [
      "[30, 20, 40]\n",
      "[30, 40]\n"
     ]
    }
   ],
   "source": [
    "L = [30,20,10,40]\n",
    "del(L[2])\n",
    "print(L)\n",
    "L.remove(20)\n",
    "print(L)"
   ]
  },
  {
   "cell_type": "code",
   "execution_count": 75,
   "id": "a8563a0d",
   "metadata": {},
   "outputs": [
    {
     "name": "stdout",
     "output_type": "stream",
     "text": [
      "['H', 'i', ' ', 'H', 'o', 'w', ' ', 'a', 'r', 'e', ' ', 'y', 'o', 'u', '?', ' ', 'T', 'o', 'd', 'a', 'y', ' ', 'i', 's', ' ', 'a', ' ', 'g', 'o', 'o', 'd', ' ', 'd', 'a', 'y']\n",
      "Hi How are you? Today is a good day\n"
     ]
    }
   ],
   "source": [
    "A = \"Hi! How are you? Today is a good day.\"\n",
    "Y = [\"!\",\",\",\".\"]\n",
    "A = [a for a in A if a not in Y]\n",
    "print(A)\n",
    "A = \"\".join(A)\n",
    "print(A)"
   ]
  },
  {
   "cell_type": "code",
   "execution_count": 76,
   "id": "8743cb0b",
   "metadata": {},
   "outputs": [
    {
     "ename": "SyntaxError",
     "evalue": "invalid syntax (Temp/ipykernel_24068/2258910825.py, line 2)",
     "output_type": "error",
     "traceback": [
      "\u001b[1;36m  File \u001b[1;32m\"C:\\Users\\rgmmm\\AppData\\Local\\Temp/ipykernel_24068/2258910825.py\"\u001b[1;36m, line \u001b[1;32m2\u001b[0m\n\u001b[1;33m    ==> [\"Oh\",\"My god\",\"Today is not my day\"]\u001b[0m\n\u001b[1;37m     ^\u001b[0m\n\u001b[1;31mSyntaxError\u001b[0m\u001b[1;31m:\u001b[0m invalid syntax\n"
     ]
    }
   ],
   "source": [
    "S = \"Oh! my god! today is not my day.\"\n",
    "==> [\"Oh\",\"My god\",\"Today is not my day\"]\n",
    "==> [[\"Oh\"],[\"My\",\"god\"],[\"Today\", \"is\", \"not\", \"my\", \"day\"]]\n",
    "\n",
    "\"Oh! my god! today is not my day.\"\n",
    "(1) 去除 !, .\n",
    "(2) 開頭放大寫\n",
    "(3) list 中，每個元素都是一句話\n",
    "(4) 將每個list元素中的一句話，再進行二維list生成\n",
    "==> [\"Oh\",\"My god\",\"Today is not my day\"]\n",
    "==> [[Oh],[\"My\",\"god\"],[\"Today\",\"is\",\"not\",\"my\",\"day\"]]"
   ]
  },
  {
   "cell_type": "code",
   "execution_count": 87,
   "id": "006c8a99",
   "metadata": {},
   "outputs": [
    {
     "name": "stdout",
     "output_type": "stream",
     "text": [
      "Oh! my god! today is not my day\n",
      "['Oh', ' my god', ' today is not my day']\n",
      "第一題:  ['Oh', 'My god', 'Today is not my day']\n",
      "第二題:  [['Oh'], ['My god'], ['Today is not my day']]\n"
     ]
    }
   ],
   "source": [
    "S = \"Oh! my god! today is not my day.\"\n",
    "S = S.replace(\".\",\"\")\n",
    "print(S)\n",
    "S = S.split(\"!\")\n",
    "print(S)\n",
    "for i,s in enumerate(S):\n",
    "    S[i] = s.strip()\n",
    "    S[i] = S[i][0].upper() +S[i][1:]\n",
    "print(\"第一題: \",S)\n",
    "S = [[S[i]] for i in range(len(S))]\n",
    "print(\"第二題: \",S)\n"
   ]
  },
  {
   "cell_type": "code",
   "execution_count": null,
   "id": "46303bba",
   "metadata": {},
   "outputs": [],
   "source": []
  }
 ],
 "metadata": {
  "kernelspec": {
   "display_name": "Python 3 (ipykernel)",
   "language": "python",
   "name": "python3"
  },
  "language_info": {
   "codemirror_mode": {
    "name": "ipython",
    "version": 3
   },
   "file_extension": ".py",
   "mimetype": "text/x-python",
   "name": "python",
   "nbconvert_exporter": "python",
   "pygments_lexer": "ipython3",
   "version": "3.7.11"
  }
 },
 "nbformat": 4,
 "nbformat_minor": 5
}
