{
 "cells": [
  {
   "cell_type": "code",
   "execution_count": 11,
   "id": "bf990891",
   "metadata": {},
   "outputs": [
    {
     "name": "stdout",
     "output_type": "stream",
     "text": [
      "we are students Yours brother is a teacher\n",
      "we are students. Your's brother is a teacher!\n"
     ]
    }
   ],
   "source": [
    "import re\n",
    "S = \"we are (students). Your's brother is a teacher!\"\n",
    "L = re.sub(\"\\(|\\)|\\.|\\!|\\'\",\"\",S)\n",
    "print(L)\n",
    "out = ['(',')']\n",
    "M = [word for word in S if word not in out]\n",
    "M = ''.join(M)\n",
    "print(M)"
   ]
  },
  {
   "cell_type": "code",
   "execution_count": 10,
   "id": "6acabfa2",
   "metadata": {},
   "outputs": [
    {
     "name": "stdout",
     "output_type": "stream",
     "text": [
      "['we', 'are', 'students', 'Yours', 'brother', 'is', 'a', 'teacher']\n",
      "{0: 'we', 1: 'are', 2: 'students', 3: 'Yours', 4: 'brother', 5: 'is', 6: 'a', 7: 'teacher'}\n"
     ]
    }
   ],
   "source": [
    "import re\n",
    "S = \"we are (students). Your's brother is a teacher!\"\n",
    "S = re.sub(\"\\(|\\)|\\.|\\!|\\'\",\"\",S)\n",
    "L = S.split(\" \")\n",
    "print(L)\n",
    "L = {i:w for i,w in enumerate(L)}\n",
    "print(L)"
   ]
  },
  {
   "cell_type": "code",
   "execution_count": null,
   "id": "4ee85fe1",
   "metadata": {},
   "outputs": [],
   "source": [
    "D = {'John':1,\"Mary\":2,\"Lucy\":3}"
   ]
  },
  {
   "cell_type": "code",
   "execution_count": 20,
   "id": "c0cb0b4a",
   "metadata": {},
   "outputs": [
    {
     "name": "stdout",
     "output_type": "stream",
     "text": [
      "不是\n",
      "再見\n",
      "Bye \t 再見\n",
      "Desk \t 桌子\n"
     ]
    }
   ],
   "source": [
    "D = {'Yes':\"是\",\"No\":\"不是\",\"Bye\":\"再見\"}\n",
    "D[\"Desk\"] = \"桌子\"\n",
    "del D[\"Yes\"]\n",
    "print(D.pop(\"No\"))\n",
    "print(D['Bye'])\n",
    "for d in D:\n",
    "    print(d,\"\\t\",D[d])"
   ]
  },
  {
   "cell_type": "code",
   "execution_count": 24,
   "id": "9faa4a59",
   "metadata": {},
   "outputs": [
    {
     "name": "stdout",
     "output_type": "stream",
     "text": [
      "{'Yes': '是', 'No': '不是', 'Bye': '再見', 'Apple': '蘋果', 'Night': '晚上', 'Teacher': '老師'}\n",
      "====\n",
      "['不是', '晚上']\n"
     ]
    }
   ],
   "source": [
    "D = {'Yes':\"是\",\"No\":\"不是\",\"Bye\":\"再見\"}\n",
    "Eng = ['Apple','Night','Teacher']\n",
    "Chi = ['蘋果','晚上','老師']\n",
    "for i in range(len(Eng)):\n",
    "    D[Eng[i]] = Chi[i]\n",
    "print(D)\n",
    "\n",
    "print(\"====\")\n",
    "\n",
    "list = []\n",
    "for key in D:\n",
    "    if key[0] == \"N\":\n",
    "        list.append(D[key])\n",
    "print(list)"
   ]
  },
  {
   "cell_type": "code",
   "execution_count": 34,
   "id": "a4984773",
   "metadata": {},
   "outputs": [
    {
     "name": "stdout",
     "output_type": "stream",
     "text": [
      "A AB ABC ABCD ABCDE ABCDEF ABCDEFG ABCDEFGH ABCDEFGHI ABCDEFGHIJ ABCDEFGHIJK ABCDEFGHIJKL ABCDEFGHIJKLM ABCDEFGHIJKLMN ABCDEFGHIJKLMNO ABCDEFGHIJKLMNOP ABCDEFGHIJKLMNOPQ ABCDEFGHIJKLMNOPQR ABCDEFGHIJKLMNOPQRS ABCDEFGHIJKLMNOPQRST ABCDEFGHIJKLMNOPQRSTU ABCDEFGHIJKLMNOPQRSTUV ABCDEFGHIJKLMNOPQRSTUVW ABCDEFGHIJKLMNOPQRSTUVWX ABCDEFGHIJKLMNOPQRSTUVWXY ABCDEFGHIJKLMNOPQRSTUVWXYZ ABCDEFGHIJKLMNOPQRSTUVWXYZ\n",
      "ABCDEFGHIJKLMNOPQRSTUVWXYZ\n",
      "ABCDEFGHIJKLMNOPQRSTUVWXY\n",
      "ABCDEFGHIJKLMNOPQRSTUVWX\n",
      "ABCDEFGHIJKLMNOPQRSTUVW\n",
      "ABCDEFGHIJKLMNOPQRSTUV\n",
      "ABCDEFGHIJKLMNOPQRSTU\n",
      "ABCDEFGHIJKLMNOPQRST\n",
      "ABCDEFGHIJKLMNOPQRS\n",
      "ABCDEFGHIJKLMNOPQR\n",
      "ABCDEFGHIJKLMNOPQ\n",
      "ABCDEFGHIJKLMNOP\n",
      "ABCDEFGHIJKLMNO\n",
      "ABCDEFGHIJKLMN\n",
      "ABCDEFGHIJKLM\n",
      "ABCDEFGHIJKL\n",
      "ABCDEFGHIJK\n",
      "ABCDEFGHIJ\n",
      "ABCDEFGHI\n",
      "ABCDEFGH\n",
      "ABCDEFG\n",
      "ABCDEF\n",
      "ABCDE\n",
      "ABCD\n",
      "ABC\n",
      "AB\n",
      "A\n"
     ]
    }
   ],
   "source": [
    "s = ''\n",
    "List_s = []\n",
    "for i in range(65,91):\n",
    "    s += chr(i)\n",
    "    List_s.append(s)\n",
    "    print(s , end = \" \")\n",
    "print(s)\n",
    "for i in range(len(List_s)-1,-1,-1):\n",
    "    print(List_s[i])"
   ]
  },
  {
   "cell_type": "code",
   "execution_count": 32,
   "id": "e44290a6",
   "metadata": {},
   "outputs": [
    {
     "name": "stdout",
     "output_type": "stream",
     "text": [
      "65\n"
     ]
    }
   ],
   "source": [
    "print(ord('A'))"
   ]
  },
  {
   "cell_type": "code",
   "execution_count": 36,
   "id": "8f06cf97",
   "metadata": {},
   "outputs": [
    {
     "name": "stdout",
     "output_type": "stream",
     "text": [
      "1\n",
      "no\n"
     ]
    }
   ],
   "source": [
    "char_in = input(\"\")\n",
    "if (ord(char_in) >= 65 and ord(char_in) <=90) or (ord(char_in) >= 97 and ord(char_in) <= 122):\n",
    "    print(\"yes\")\n",
    "else:\n",
    "    print('no')"
   ]
  },
  {
   "cell_type": "code",
   "execution_count": null,
   "id": "188166c8",
   "metadata": {},
   "outputs": [],
   "source": [
    "反向印出下列:\n",
    "A\n",
    "AB\n",
    "ABC\n",
    "ABCD\n",
    "ABCDE\n",
    "ABCDEF\n",
    "ABCDEFG\n",
    "ABCDEFGH\n",
    "ABCDEFGHI\n",
    "ABCDEFGHIJ\n",
    "ABCDEFGHIJK\n",
    "ABCDEFGHIJKL\n",
    "ABCDEFGHIJKLM\n",
    "ABCDEFGHIJKLMN\n",
    "ABCDEFGHIJKLMNO\n",
    "ABCDEFGHIJKLMNOP\n",
    "ABCDEFGHIJKLMNOPQ\n",
    "ABCDEFGHIJKLMNOPQR\n",
    "ABCDEFGHIJKLMNOPQRS\n",
    "ABCDEFGHIJKLMNOPQRST\n",
    "ABCDEFGHIJKLMNOPQRSTU\n",
    "ABCDEFGHIJKLMNOPQRSTUV\n",
    "ABCDEFGHIJKLMNOPQRSTUVW\n",
    "ABCDEFGHIJKLMNOPQRSTUVWX\n",
    "ABCDEFGHIJKLMNOPQRSTUVWXY\n",
    "ABCDEFGHIJKLMNOPQRSTUVWXYZ\n",
    "\n",
    "輸入一個字母,判斷是否為 a..z,A..Z\n",
    "\n",
    "A 65\n",
    "Z 90\n",
    "a 97\n",
    "z 122\n"
   ]
  },
  {
   "cell_type": "code",
   "execution_count": 37,
   "id": "a3ea683a",
   "metadata": {},
   "outputs": [
    {
     "name": "stdout",
     "output_type": "stream",
     "text": [
      "ABCDEFGHIJKLMNOPQRSTUVWXYZ\n",
      "ABCDEFGHIJKLMNOPQRSTUVWXY\n",
      "ABCDEFGHIJKLMNOPQRSTUVWX\n",
      "ABCDEFGHIJKLMNOPQRSTUVW\n",
      "ABCDEFGHIJKLMNOPQRSTUV\n",
      "ABCDEFGHIJKLMNOPQRSTU\n",
      "ABCDEFGHIJKLMNOPQRST\n",
      "ABCDEFGHIJKLMNOPQRS\n",
      "ABCDEFGHIJKLMNOPQR\n",
      "ABCDEFGHIJKLMNOPQ\n",
      "ABCDEFGHIJKLMNOP\n",
      "ABCDEFGHIJKLMNO\n",
      "ABCDEFGHIJKLMN\n",
      "ABCDEFGHIJKLM\n",
      "ABCDEFGHIJKL\n",
      "ABCDEFGHIJK\n",
      "ABCDEFGHIJ\n",
      "ABCDEFGHI\n",
      "ABCDEFGH\n",
      "ABCDEFG\n",
      "ABCDEF\n",
      "ABCDE\n",
      "ABCD\n",
      "ABC\n",
      "AB\n",
      "A\n"
     ]
    }
   ],
   "source": [
    "for i in range(26):\n",
    "    S=\"\"\n",
    "    for j in range(65,91-i):\n",
    "        S=S+chr(j)\n",
    "    print(S)"
   ]
  },
  {
   "cell_type": "code",
   "execution_count": 41,
   "id": "e50f445f",
   "metadata": {},
   "outputs": [
    {
     "name": "stdout",
     "output_type": "stream",
     "text": [
      "{'Yes': '是', 'No': '不是', 'Good': '好'}\n"
     ]
    }
   ],
   "source": [
    "L = [['Yes','是'],['No','不是'],['Good','好']]\n",
    "D = dict(L)\n",
    "print(D)"
   ]
  },
  {
   "cell_type": "code",
   "execution_count": 46,
   "id": "5d3e108f",
   "metadata": {},
   "outputs": [
    {
     "name": "stdout",
     "output_type": "stream",
     "text": [
      "score\n",
      "80\n",
      "60\n",
      "10\n",
      "100\n",
      "Interest\n",
      "足球\n",
      "籃球\n",
      "網球\n",
      "郊遊\n"
     ]
    }
   ],
   "source": [
    "D = {'score':[80,60,10,100],'Interest':['足球','籃球','網球','郊遊']}\n",
    "for data in D:\n",
    "    print(data)\n",
    "    for item in D[data]:\n",
    "        print(item)"
   ]
  },
  {
   "cell_type": "code",
   "execution_count": 51,
   "id": "75070785",
   "metadata": {},
   "outputs": [
    {
     "name": "stdout",
     "output_type": "stream",
     "text": [
      "{'Yes': '是', 'No': '不是', 'Good': '好'}\n",
      "查無此字\n",
      "是\n"
     ]
    }
   ],
   "source": [
    "L = [['Yes','是'],['No','不是'],['Good','好']]\n",
    "D = dict(L)\n",
    "print(D)\n",
    "print(D.get('yes','查無此字'))\n",
    "print(D.get('yes'.title(),'查無此字'))"
   ]
  },
  {
   "cell_type": "code",
   "execution_count": null,
   "id": "6e373032",
   "metadata": {},
   "outputs": [],
   "source": []
  }
 ],
 "metadata": {
  "kernelspec": {
   "display_name": "Python 3 (ipykernel)",
   "language": "python",
   "name": "python3"
  },
  "language_info": {
   "codemirror_mode": {
    "name": "ipython",
    "version": 3
   },
   "file_extension": ".py",
   "mimetype": "text/x-python",
   "name": "python",
   "nbconvert_exporter": "python",
   "pygments_lexer": "ipython3",
   "version": "3.7.11"
  }
 },
 "nbformat": 4,
 "nbformat_minor": 5
}
