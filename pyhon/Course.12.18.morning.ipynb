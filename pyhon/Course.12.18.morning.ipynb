{
 "cells": [
  {
   "cell_type": "code",
   "execution_count": 4,
   "id": "5010dd13",
   "metadata": {},
   "outputs": [
    {
     "name": "stdout",
     "output_type": "stream",
     "text": [
      "20\n",
      "30\n",
      "90\n",
      "60\n",
      "e:  0  i:  20\n",
      "e:  1  i:  30\n",
      "e:  2  i:  90\n",
      "e:  3  i:  60\n"
     ]
    }
   ],
   "source": [
    "L = [20,30,90,60]\n",
    "for e in L:\n",
    "    print(e)\n",
    "#照出索引\n",
    "for e,i in enumerate(L):\n",
    "    print(\"e: \",e, \" i: \",i)"
   ]
  },
  {
   "cell_type": "code",
   "execution_count": 10,
   "id": "a7fbe102",
   "metadata": {},
   "outputs": [
    {
     "name": "stdout",
     "output_type": "stream",
     "text": [
      "Marry 20\n",
      "Potter 30\n",
      "Lisa 40\n",
      "Marry 30\n",
      "Potter 40\n",
      "Lisa 50\n"
     ]
    }
   ],
   "source": [
    "Name = [\"Marry\",\"Potter\",\"Lisa\"]\n",
    "age = [20,30,40,50]\n",
    "for i,name in enumerate(Name):\n",
    "    print(name,age[i])\n",
    "for i,name in enumerate(Name,1):\n",
    "    print(name,age[i])"
   ]
  },
  {
   "cell_type": "code",
   "execution_count": 9,
   "id": "4408e029",
   "metadata": {},
   "outputs": [
    {
     "name": "stdout",
     "output_type": "stream",
     "text": [
      "Marry 20\n",
      "Potter 30\n",
      "Lisa 40\n"
     ]
    }
   ],
   "source": [
    "Name = [\"Marry\",\"Potter\",\"Lisa\"]\n",
    "age = [20,30,40,50]\n",
    "for i in range(len(Name)):\n",
    "    print(Name[i],age[i])"
   ]
  },
  {
   "cell_type": "code",
   "execution_count": 16,
   "id": "99525536",
   "metadata": {},
   "outputs": [
    {
     "name": "stdout",
     "output_type": "stream",
     "text": [
      "['Marry', 20, 2000]\n",
      "['Potter', 30, 3000]\n",
      "['Lisa', 40, 4000]\n",
      "\n",
      "Marry  20  2000  \n",
      "Potter  30  3000  \n",
      "Lisa  40  4000  \n",
      "\n",
      "0 0 Marry\n",
      "0 1 20\n",
      "0 2 2000\n",
      "1 0 Potter\n",
      "1 1 30\n",
      "1 2 3000\n",
      "2 0 Lisa\n",
      "2 1 40\n",
      "2 2 4000\n"
     ]
    }
   ],
   "source": [
    "Data = [[\"Marry\",20,2000],[\"Potter\",30,3000],[\"Lisa\",40,4000]]\n",
    "for i in range(len(Data)):\n",
    "    print(Data[i])\n",
    "print(\"\")\n",
    "for i in range(len(Data)):\n",
    "    for j in range(len(Data[0])):\n",
    "        print(Data[i][j], end = \"  \")\n",
    "    print(\"\")\n",
    "print(\"\")\n",
    "for i,data in enumerate(Data):\n",
    "    for j,item in enumerate(data):\n",
    "        print(i,j,item)"
   ]
  },
  {
   "cell_type": "code",
   "execution_count": 17,
   "id": "0263a9e0",
   "metadata": {},
   "outputs": [
    {
     "name": "stdout",
     "output_type": "stream",
     "text": [
      "[1, 2, 7, 8, 9, 10]\n"
     ]
    }
   ],
   "source": [
    "L = [2,1,10,9,8,7]\n",
    "for i in range(len(L)):\n",
    "    for j in range(i+1,len(L)):\n",
    "        if L[i] > L[j]:\n",
    "            temp = L[i]\n",
    "            L[i] = L[j]\n",
    "            L[j] = temp\n",
    "print(L)"
   ]
  },
  {
   "cell_type": "code",
   "execution_count": 19,
   "id": "c7dad526",
   "metadata": {},
   "outputs": [
    {
     "name": "stdout",
     "output_type": "stream",
     "text": [
      "[1, 2, 7, 8, 9, 10]\n"
     ]
    }
   ],
   "source": [
    "L = [2,1,10,9,8,7]\n",
    "for i in range(len(L)-1,-1,-1):\n",
    "    for j in range(i-1,-1,-1):\n",
    "        if L[i] < L[j]:\n",
    "            temp = L[i]\n",
    "            L[i] = L[j]\n",
    "            L[j] = temp\n",
    "print(L)"
   ]
  },
  {
   "cell_type": "code",
   "execution_count": 41,
   "id": "e01cccaa",
   "metadata": {},
   "outputs": [
    {
     "name": "stdout",
     "output_type": "stream",
     "text": [
      "i,j:  0 1  e,j,L[j]: 2 1 1  change 0 1\n",
      "\n",
      "i,j:  0 2\n",
      "i,j:  0 3\n",
      "i,j:  0 4\n",
      "i,j:  0 5\n",
      "i,j:  1 2\n",
      "i,j:  1 3\n",
      "i,j:  1 4\n",
      "i,j:  1 5\n",
      "i,j:  2 3  e,j,L[j]: 10 3 9  change 2 3\n",
      "\n",
      "i,j:  2 4  e,j,L[j]: 10 4 8  change 2 4\n",
      "\n",
      "i,j:  2 5  e,j,L[j]: 10 5 7  change 2 5\n",
      "\n",
      "i,j:  3 4  e,j,L[j]: 10 4 9  change 3 4\n",
      "\n",
      "i,j:  3 5  e,j,L[j]: 10 5 8  change 3 5\n",
      "\n",
      "i,j:  4 5  e,j,L[j]: 10 5 9  change 4 5\n",
      "\n",
      "[1, 2, 7, 8, 9, 10]\n"
     ]
    }
   ],
   "source": [
    "L = [2,1,10,9,8,7]\n",
    "for i,e in enumerate(L):\n",
    "    for j in range(i+1,len(L)):\n",
    "        print(\"i,j: \",i,j, end = \"\")\n",
    "        if e > L[j]:\n",
    "            print(\"  e,j,L[j]:\",e,j,L[j], end = \" \")\n",
    "            temp = L[i]\n",
    "            L[i] = L[j]\n",
    "            L[j] = temp\n",
    "            print(\" change\", i,j)\n",
    "        print(\"\")\n",
    "print(L)"
   ]
  },
  {
   "cell_type": "code",
   "execution_count": 37,
   "id": "25744040",
   "metadata": {},
   "outputs": [
    {
     "name": "stdout",
     "output_type": "stream",
     "text": [
      "i,j:  0 1 change 0 1\n",
      "\n",
      "i,j:  0 2\n",
      "i,j:  0 3\n",
      "i,j:  0 4\n",
      "i,j:  0 5\n",
      "i,j:  1 2\n",
      "i,j:  1 3\n",
      "i,j:  1 4\n",
      "i,j:  1 5\n",
      "i,j:  2 3 change 2 3\n",
      "\n",
      "i,j:  2 4 change 2 4\n",
      "\n",
      "i,j:  2 5 change 2 5\n",
      "\n",
      "i,j:  3 4 change 3 4\n",
      "\n",
      "i,j:  3 5 change 3 5\n",
      "\n",
      "i,j:  4 5 change 4 5\n",
      "\n",
      "[1, 2, 7, 8, 9, 10]\n"
     ]
    }
   ],
   "source": [
    "L = [2,1,10,9,8,7]\n",
    "for i,e in enumerate(L):\n",
    "    for j in range(i+1,len(L)):\n",
    "        print(\"i,j: \",i,j, end = \"\")\n",
    "        if L[i] > L[j]:\n",
    "            temp = L[i]\n",
    "            L[i] = L[j]\n",
    "            L[j] = temp\n",
    "            print(\" change\", i,j)\n",
    "        print(\"\")\n",
    "print(L)"
   ]
  },
  {
   "cell_type": "code",
   "execution_count": 42,
   "id": "628946dc",
   "metadata": {},
   "outputs": [
    {
     "name": "stdout",
     "output_type": "stream",
     "text": [
      "elcomeW\n",
      "lcomeWe\n",
      "comeWel\n",
      "omeWelc\n",
      "meWelco\n",
      "eWelcom\n",
      "Welcome\n"
     ]
    }
   ],
   "source": [
    "A = \"Welcome\"\n",
    "for i in range(len(A)):\n",
    "    A = A[1:]+A[0]\n",
    "    print(A)"
   ]
  },
  {
   "cell_type": "code",
   "execution_count": 71,
   "id": "01597c51",
   "metadata": {},
   "outputs": [
    {
     "name": "stdout",
     "output_type": "stream",
     "text": [
      "['I', 'am', 'very', 'handsome.', 'All', 'boys', 'are', 'very', 'handsome']\n",
      "9\n",
      "I very handsome. All boys very handsome\n"
     ]
    }
   ],
   "source": [
    "S = \"I am very handsome. All boys are very handsome\"\n",
    "S = S.split(\" \")\n",
    "print(S)\n",
    "print(len(S))\n",
    "for i,e in enumerate(S):\n",
    "    #print(\"e:\",e)\n",
    "    if e == \"am\":\n",
    "            del S[i]\n",
    "    elif e == \"are\":\n",
    "            del S[i]\n",
    "S = \" \".join(S)\n",
    "print(S)"
   ]
  },
  {
   "cell_type": "code",
   "execution_count": 59,
   "id": "40744c1a",
   "metadata": {},
   "outputs": [
    {
     "name": "stdout",
     "output_type": "stream",
     "text": [
      "I a student. You a teacher. We in class.\n"
     ]
    }
   ],
   "source": [
    "S=\"I am a student. You are a teacher. We are in class.\"\n",
    "S_list = S.split(\" \")\n",
    "for k,e in enumerate(S_list):\n",
    "    if e == 'am' or e == 'are':\n",
    "        del S_list[k]\n",
    "S = \" \".join(S_list)\n",
    "print(S)\n",
    "\n"
   ]
  },
  {
   "cell_type": "code",
   "execution_count": null,
   "id": "68f5adab",
   "metadata": {},
   "outputs": [],
   "source": []
  }
 ],
 "metadata": {
  "kernelspec": {
   "display_name": "Python 3 (ipykernel)",
   "language": "python",
   "name": "python3"
  },
  "language_info": {
   "codemirror_mode": {
    "name": "ipython",
    "version": 3
   },
   "file_extension": ".py",
   "mimetype": "text/x-python",
   "name": "python",
   "nbconvert_exporter": "python",
   "pygments_lexer": "ipython3",
   "version": "3.7.11"
  }
 },
 "nbformat": 4,
 "nbformat_minor": 5
}
