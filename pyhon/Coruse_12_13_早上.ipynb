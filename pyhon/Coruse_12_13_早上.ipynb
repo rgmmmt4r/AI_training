{
 "cells": [
  {
   "cell_type": "code",
   "execution_count": 1,
   "id": "1b2adab4",
   "metadata": {},
   "outputs": [
    {
     "data": {
      "text/plain": [
       "3"
      ]
     },
     "execution_count": 1,
     "metadata": {},
     "output_type": "execute_result"
    }
   ],
   "source": [
    "1+2"
   ]
  },
  {
   "cell_type": "code",
   "execution_count": 2,
   "id": "62b14e4e",
   "metadata": {},
   "outputs": [
    {
     "data": {
      "text/plain": [
       "1"
      ]
     },
     "execution_count": 2,
     "metadata": {},
     "output_type": "execute_result"
    }
   ],
   "source": [
    "3-2"
   ]
  },
  {
   "cell_type": "code",
   "execution_count": 26,
   "id": "561c343d",
   "metadata": {},
   "outputs": [
    {
     "data": {
      "text/plain": [
       "8"
      ]
     },
     "execution_count": 26,
     "metadata": {},
     "output_type": "execute_result"
    }
   ],
   "source": [
    "2**3"
   ]
  },
  {
   "cell_type": "code",
   "execution_count": 4,
   "id": "58b01952",
   "metadata": {},
   "outputs": [
    {
     "data": {
      "text/plain": [
       "1"
      ]
     },
     "execution_count": 4,
     "metadata": {},
     "output_type": "execute_result"
    }
   ],
   "source": [
    "9%2"
   ]
  },
  {
   "cell_type": "code",
   "execution_count": 6,
   "id": "15c143d8",
   "metadata": {},
   "outputs": [
    {
     "data": {
      "text/plain": [
       "8"
      ]
     },
     "execution_count": 6,
     "metadata": {},
     "output_type": "execute_result"
    }
   ],
   "source": [
    "2**3"
   ]
  },
  {
   "cell_type": "code",
   "execution_count": 7,
   "id": "bb0d8378",
   "metadata": {},
   "outputs": [
    {
     "data": {
      "text/plain": [
       "8"
      ]
     },
     "execution_count": 7,
     "metadata": {},
     "output_type": "execute_result"
    }
   ],
   "source": [
    "2**(1+2)"
   ]
  },
  {
   "cell_type": "code",
   "execution_count": 8,
   "id": "b4a4b387",
   "metadata": {},
   "outputs": [
    {
     "data": {
      "text/plain": [
       "6"
      ]
     },
     "execution_count": 8,
     "metadata": {},
     "output_type": "execute_result"
    }
   ],
   "source": [
    "2*3"
   ]
  },
  {
   "cell_type": "raw",
   "id": "af4fd23c",
   "metadata": {},
   "source": [
    "print(2+3)"
   ]
  },
  {
   "cell_type": "code",
   "execution_count": 10,
   "id": "add46514",
   "metadata": {},
   "outputs": [
    {
     "name": "stdout",
     "output_type": "stream",
     "text": [
      "5\n",
      "-1\n",
      "8\n",
      "1\n"
     ]
    }
   ],
   "source": [
    "print(2+3)\n",
    "print(2-3)\n",
    "print(2*4)\n",
    "print(9%2)"
   ]
  },
  {
   "cell_type": "code",
   "execution_count": null,
   "id": "145b24e6",
   "metadata": {},
   "outputs": [],
   "source": []
  },
  {
   "cell_type": "code",
   "execution_count": null,
   "id": "1cbd781e",
   "metadata": {},
   "outputs": [],
   "source": []
  },
  {
   "cell_type": "code",
   "execution_count": 11,
   "id": "cff9c1f4",
   "metadata": {},
   "outputs": [
    {
     "name": "stdout",
     "output_type": "stream",
     "text": [
      "5 -2\n"
     ]
    }
   ],
   "source": [
    "#print()中可以用逗號將輸出資料放在同一行\n",
    "print(2+3,2-4)"
   ]
  },
  {
   "cell_type": "code",
   "execution_count": 12,
   "id": "2e2f8323",
   "metadata": {},
   "outputs": [
    {
     "name": "stdout",
     "output_type": "stream",
     "text": [
      "我很帥\n"
     ]
    }
   ],
   "source": [
    "print(\"我很帥\")"
   ]
  },
  {
   "cell_type": "code",
   "execution_count": 13,
   "id": "0b2c6ec3",
   "metadata": {},
   "outputs": [
    {
     "name": "stdout",
     "output_type": "stream",
     "text": [
      "3+5\n"
     ]
    }
   ],
   "source": [
    "print(\"3+5\")"
   ]
  },
  {
   "cell_type": "code",
   "execution_count": 14,
   "id": "a2bb968d",
   "metadata": {},
   "outputs": [
    {
     "name": "stdout",
     "output_type": "stream",
     "text": [
      "5 8\n"
     ]
    }
   ],
   "source": [
    "#print()中控制不換行\n",
    "print(2+3,end = \" \")\n",
    "#整數計算\n",
    "print(3+5)"
   ]
  },
  {
   "cell_type": "code",
   "execution_count": 15,
   "id": "2d3ae41d",
   "metadata": {},
   "outputs": [
    {
     "name": "stdout",
     "output_type": "stream",
     "text": [
      "Name is John\n"
     ]
    }
   ],
   "source": [
    "#字串計算\n",
    "print(\"Name is\",\"John\")"
   ]
  },
  {
   "cell_type": "code",
   "execution_count": 16,
   "id": "c1717d37",
   "metadata": {},
   "outputs": [
    {
     "name": "stdout",
     "output_type": "stream",
     "text": [
      "6.4\n"
     ]
    }
   ],
   "source": [
    "#浮點數計算\n",
    "print(3.5+2.9)"
   ]
  },
  {
   "cell_type": "code",
   "execution_count": 21,
   "id": "35304770",
   "metadata": {},
   "outputs": [
    {
     "name": "stdout",
     "output_type": "stream",
     "text": [
      "3\n",
      "x 加入2: 5\n",
      "x 加入10: 15\n",
      "x 加入y: 18\n"
     ]
    }
   ],
   "source": [
    "x = 3\n",
    "print(x)\n",
    "x= x +2\n",
    "print(\"x 加入2:\", x)\n",
    "x= x+10\n",
    "print(\"x 加入10:\", x)\n",
    "y =3\n",
    "x = x+y\n",
    "print(\"x 加入y:\", x)\n",
    "\n"
   ]
  },
  {
   "cell_type": "code",
   "execution_count": 24,
   "id": "d8614da6",
   "metadata": {},
   "outputs": [
    {
     "name": "stdout",
     "output_type": "stream",
     "text": [
      "age是: 25  型態是: <class 'int'>\n",
      "weight是: 75  型態是: <class 'int'>\n",
      "age是:25歲\n",
      "name 型態是 <class 'str'>\n"
     ]
    }
   ],
   "source": [
    "age = 25\n",
    "weight = 75\n",
    "name = \"Eddie\"\n",
    "print(\"age是:\", age,\" 型態是:\",type(age))\n",
    "print(\"weight是:\", weight,\" 型態是:\",type(weight))\n",
    "print(\"age是:\"+str(age)+\"歲\")\n",
    "print(\"name 型態是\",type(name))\n"
   ]
  },
  {
   "cell_type": "code",
   "execution_count": 22,
   "id": "f4fa35ff",
   "metadata": {},
   "outputs": [
    {
     "name": "stdout",
     "output_type": "stream",
     "text": [
      "2 3\n"
     ]
    }
   ],
   "source": [
    "x,y = 2,3\n",
    "print(x,y)"
   ]
  },
  {
   "cell_type": "code",
   "execution_count": null,
   "id": "491fe3c6",
   "metadata": {},
   "outputs": [],
   "source": [
    "# Practice:\n",
    "變數(Pay)裝薪資 30000\n",
    "變數(Rate)裝稅率 0.06\n",
    "變數(Real_Pay)計算並儲存實薪\n",
    "變數(Tax)計算並儲存所得稅\n",
    "印出原薪，實得薪資，所得稅\n"
   ]
  },
  {
   "cell_type": "code",
   "execution_count": 25,
   "id": "82d7ef84",
   "metadata": {},
   "outputs": [
    {
     "name": "stdout",
     "output_type": "stream",
     "text": [
      "原薪:  30000  實得薪資:  28200.0  所得稅:  1800.0\n"
     ]
    }
   ],
   "source": [
    "Pay = 30000\n",
    "Rate = 0.06\n",
    "Real_Pay = Pay * (1-Rate)\n",
    "Tax = Pay * Rate\n",
    "print(\"原薪: \", Pay , \" 實得薪資: \", Real_Pay, \" 所得稅: \", Tax)"
   ]
  },
  {
   "cell_type": "code",
   "execution_count": null,
   "id": "8906e701",
   "metadata": {},
   "outputs": [],
   "source": []
  }
 ],
 "metadata": {
  "kernelspec": {
   "display_name": "Python 3 (ipykernel)",
   "language": "python",
   "name": "python3"
  },
  "language_info": {
   "codemirror_mode": {
    "name": "ipython",
    "version": 3
   },
   "file_extension": ".py",
   "mimetype": "text/x-python",
   "name": "python",
   "nbconvert_exporter": "python",
   "pygments_lexer": "ipython3",
   "version": "3.7.11"
  }
 },
 "nbformat": 4,
 "nbformat_minor": 5
}
