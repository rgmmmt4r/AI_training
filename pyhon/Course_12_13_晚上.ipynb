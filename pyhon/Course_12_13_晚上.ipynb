{
 "cells": [
  {
   "cell_type": "code",
   "execution_count": 1,
   "id": "3b3c2659",
   "metadata": {},
   "outputs": [
    {
     "name": "stdout",
     "output_type": "stream",
     "text": [
      "<class 'int'> <class 'int'> <class 'bool'> <class 'str'>\n"
     ]
    }
   ],
   "source": [
    "age = 23\n",
    "height = 172\n",
    "sex = True\n",
    "Name = \"張三\"\n",
    "print(type(age), type(height), type(sex), type(Name))"
   ]
  },
  {
   "cell_type": "code",
   "execution_count": 2,
   "id": "e4645fc3",
   "metadata": {},
   "outputs": [
    {
     "name": "stdout",
     "output_type": "stream",
     "text": [
      "False\n",
      "True\n"
     ]
    }
   ],
   "source": [
    "print(1>2)\n",
    "print(4>3)\n"
   ]
  },
  {
   "cell_type": "code",
   "execution_count": 3,
   "id": "1cb0b7ad",
   "metadata": {},
   "outputs": [
    {
     "name": "stdout",
     "output_type": "stream",
     "text": [
      "False\n",
      "False\n"
     ]
    }
   ],
   "source": [
    "x = 10\n",
    "y = 20\n",
    "z = x> y\n",
    "print(x>y)\n",
    "print(z)"
   ]
  },
  {
   "cell_type": "code",
   "execution_count": 4,
   "id": "3c4c34c2",
   "metadata": {},
   "outputs": [
    {
     "name": "stdout",
     "output_type": "stream",
     "text": [
      "2 4\n"
     ]
    }
   ],
   "source": [
    "x = False\n",
    "y = True\n",
    "z = 2 + x\n",
    "k = 3+y\n",
    "print(z, k)"
   ]
  },
  {
   "cell_type": "code",
   "execution_count": 5,
   "id": "b097ed09",
   "metadata": {},
   "outputs": [
    {
     "name": "stdout",
     "output_type": "stream",
     "text": [
      "True\n",
      "False\n",
      "False\n",
      "False\n"
     ]
    }
   ],
   "source": [
    "print(True and True)\n",
    "print(True and False)\n",
    "print(False and True)\n",
    "print(False and False)"
   ]
  },
  {
   "cell_type": "code",
   "execution_count": 6,
   "id": "a1270049",
   "metadata": {},
   "outputs": [
    {
     "name": "stdout",
     "output_type": "stream",
     "text": [
      "True\n",
      "True\n",
      "True\n",
      "False\n"
     ]
    }
   ],
   "source": [
    "print(True or True)\n",
    "print(True or False)\n",
    "print(False or True)\n",
    "print(False or False)"
   ]
  },
  {
   "cell_type": "code",
   "execution_count": 14,
   "id": "c935451b",
   "metadata": {},
   "outputs": [
    {
     "name": "stdout",
     "output_type": "stream",
     "text": [
      "False\n",
      "True False\n",
      "False\n",
      "False\n",
      "True\n"
     ]
    }
   ],
   "source": [
    "a = 3 > 2\n",
    "b = 2 > 3\n",
    "c = not( (a and b) or (a or b) )\n",
    "print(c)\n",
    "print(a , b)\n",
    "print(not a)\n",
    "print(a and b)\n",
    "print(a or b)"
   ]
  },
  {
   "cell_type": "code",
   "execution_count": 21,
   "id": "486e1a91",
   "metadata": {},
   "outputs": [
    {
     "name": "stdout",
     "output_type": "stream",
     "text": [
      "please input your age23\n",
      "age : 23 type:  <class 'str'>\n",
      "age : 23 type:  <class 'int'>\n"
     ]
    }
   ],
   "source": [
    "age = input(\"please input your age\")\n",
    "#age = age +2 age 是字串 會跑出錯誤\n",
    "print(\"age :\", age, \"type: \", type(age) )\n",
    "age = int(age)\n",
    "print(\"age :\", age, \"type: \", type(age) )\n"
   ]
  },
  {
   "cell_type": "code",
   "execution_count": 25,
   "id": "24fadfa1",
   "metadata": {},
   "outputs": [
    {
     "name": "stdout",
     "output_type": "stream",
     "text": [
      "please input your nameEddie\n",
      "please input your age25\n",
      "name:  Eddie  age : 25  type:  <class 'int'>\n"
     ]
    }
   ],
   "source": [
    "name = input(\"please input your name\")\n",
    "age = int(input(\"please input your age\"))\n",
    "print(\"name: \",name,\" age :\", age, \" type: \", type(age) )\n"
   ]
  },
  {
   "cell_type": "code",
   "execution_count": 28,
   "id": "fef4796a",
   "metadata": {},
   "outputs": [
    {
     "name": "stdout",
     "output_type": "stream",
     "text": [
      "成年人\n",
      "不管怎麼樣都很帥\n"
     ]
    }
   ],
   "source": [
    "age = 23\n",
    "if age >18:\n",
    "    print(\"成年人\")\n",
    "else:\n",
    "    print(\"未成年\")\n",
    "print(\"不管怎麼樣都很帥\")"
   ]
  },
  {
   "cell_type": "code",
   "execution_count": 2,
   "id": "a657e043",
   "metadata": {},
   "outputs": [
    {
     "name": "stdout",
     "output_type": "stream",
     "text": [
      "老年人\n",
      "但是不管怎麼樣都很帥\n"
     ]
    }
   ],
   "source": [
    "age = 67\n",
    "if age >65:\n",
    "    print(\"老年人\")\n",
    "elif age > 40:\n",
    "    print(\"中成年\")\n",
    "elif age > 20:\n",
    "    print(\"青成年\")\n",
    "else:\n",
    "    print(\"未成年\")\n",
    "print(\"但是不管怎麼樣都很帥\")"
   ]
  },
  {
   "cell_type": "code",
   "execution_count": null,
   "id": "f8d68a8b",
   "metadata": {},
   "outputs": [],
   "source": []
  }
 ],
 "metadata": {
  "kernelspec": {
   "display_name": "Python 3 (ipykernel)",
   "language": "python",
   "name": "python3"
  },
  "language_info": {
   "codemirror_mode": {
    "name": "ipython",
    "version": 3
   },
   "file_extension": ".py",
   "mimetype": "text/x-python",
   "name": "python",
   "nbconvert_exporter": "python",
   "pygments_lexer": "ipython3",
   "version": "3.7.11"
  }
 },
 "nbformat": 4,
 "nbformat_minor": 5
}
