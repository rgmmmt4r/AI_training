{
 "cells": [
  {
   "cell_type": "markdown",
   "id": "a1c55094",
   "metadata": {},
   "source": [
    "# 勞動部x國立陽明交大雷射中心-產業新尖兵計畫\n",
    "\n",
    "# AI跨領域數據科學人才培訓班\n",
    "\n",
    "Python程式設計\n",
    "\n",
    "上課時間：110/12/21(二) 9:00-12:00、18:00-20:00\n",
    "\n",
    "授課教師：張志勇老師\n"
   ]
  },
  {
   "cell_type": "markdown",
   "id": "3415baec",
   "metadata": {},
   "source": [
    "## Python程式設計_作業2-1\n",
    "\n",
    "檔名請依照格式命名，請記得修改這個記事本最上方的標題：Python程式設計_作業2-1_姓名"
   ]
  },
  {
   "cell_type": "code",
   "execution_count": null,
   "id": "e6d555bb",
   "metadata": {},
   "outputs": [],
   "source": [
    "#請在冒號後面再次填入您的姓名："
   ]
  },
  {
   "cell_type": "markdown",
   "id": "85b63e24",
   "metadata": {},
   "source": [
    "## 第1題\n",
    "step1. 將\"database.txt\"讀至Python內，若資料中有出現\\n或\\t，是必須要拿掉的。（若不會讀檔的同學，直接宣告下方的list即可）\n",
    "\n",
    "       DB=[['A1', '鍵盤', 5, 300], ['A2', '滑鼠', 3, 200], ['A3', '鏡頭', 2, 700], ['A4', '麥克風', 3, 600], ['A5', '螢幕', 2, 2000]]\n",
    "<br>\n",
    "\n",
    "step2. 將讀出的檔案(List)以規定格式存放至DB字典內（原本沒有給「產品總價」，請記得自行加入）。\n",
    "\n",
    "       DB={產品編號: [產品名稱, 產品數量, 產品單價, 產品總價], 產品編號: [產品名稱, 產品數量, 產品單價, 產品總價]}\n",
    "        \n",
    "範例：  DB={A1: [\"鍵盤\", 5, 300, 5\\*300], A2: [\"滑鼠\", 3, 200, 3\\*200], ...}\n",
    "<br><br>\n",
    "\n",
    "step3. 設定一個能讓使用者輸入的功能，請顯示這段字串：\"所有功能：1.新增 2.刪除 3.修改 4.檢視 5.離開。\\n請輸入您想執行的功能：\"\n",
    "       若使用輸入非1~5之字元，則print('查無此功能，請重新輸入。')，並使用迴圈再跑一次step3。\n",
    "<br><br>\n",
    "\n",
    "step4. 輸入1時，執行「新增」副程式：新增2個「鏡頭」至資料庫中、修改總價、print(\"已增加2個鏡頭至資料庫\")，之後print出更改後的整個DB（輸出結果要像step7），最後結束整個Python程式。\n",
    "<br><br>\n",
    "\n",
    "step5. 輸入2時，執行「刪除」副程式：從資料庫中刪除「螢幕」、print(\"已從資料庫中刪除螢幕\")，之後print出更改後的整個DB（輸出結果要像step7），最後結束整個Python程式。\n",
    "<br><br>\n",
    "\n",
    "step6. 輸入3時，執行「修改」副程式：從資料庫中將「鍵盤」從5個修改成3個，請記得也要修改總價，並print(\"已將鍵盤數量5個修改為3個\")，之後print出更改後的整個DB（輸出結果要像step7），最後結束整個Python程式。\n",
    "<br><br>\n",
    "\n",
    "step7. 輸入4時，執行「檢視」副程式：請按照以下格式顯示整個DB，之後結束整個Python程式。\n",
    "    \n",
    "輸出範例如下：\n",
    "\n",
    "\t產品編號 產品名稱 產品數量 產品單價 產品總價\n",
    "    \n",
    "\tA1\t 鍵盤\t  3\t   300\t    900\n",
    "\t\n",
    "\t（以下資料省略）\n",
    "<br>\n",
    "\n",
    "step8. 輸入5時，結束整個Python程式。"
   ]
  },
  {
   "cell_type": "code",
   "execution_count": null,
   "id": "052d6382",
   "metadata": {},
   "outputs": [],
   "source": [
    "#第1題回答區，若區塊不夠請自行添增。\n"
   ]
  }
 ],
 "metadata": {
  "kernelspec": {
   "display_name": "Python 3 (ipykernel)",
   "language": "python",
   "name": "python3"
  },
  "language_info": {
   "codemirror_mode": {
    "name": "ipython",
    "version": 3
   },
   "file_extension": ".py",
   "mimetype": "text/x-python",
   "name": "python",
   "nbconvert_exporter": "python",
   "pygments_lexer": "ipython3",
   "version": "3.7.11"
  }
 },
 "nbformat": 4,
 "nbformat_minor": 5
}
